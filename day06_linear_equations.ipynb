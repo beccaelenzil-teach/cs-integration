{
  "nbformat": 4,
  "nbformat_minor": 0,
  "metadata": {
    "colab": {
      "name": "day06-linear-equations.ipynb",
      "version": "0.3.2",
      "provenance": [],
      "collapsed_sections": [],
      "include_colab_link": true
    },
    "kernelspec": {
      "name": "python3",
      "display_name": "Python 3"
    }
  },
  "cells": [
    {
      "cell_type": "markdown",
      "metadata": {
        "id": "view-in-github",
        "colab_type": "text"
      },
      "source": [
        "<a href=\"https://colab.research.google.com/github/bushschool/cs-integration/blob/master/day06_linear_equations.ipynb\" target=\"_parent\"><img src=\"https://colab.research.google.com/assets/colab-badge.svg\" alt=\"Open In Colab\"/></a>"
      ]
    },
    {
      "metadata": {
        "id": "NrwaC5_KXIrT",
        "colab_type": "text"
      },
      "cell_type": "markdown",
      "source": [
        "# Day 06 - Linear Equations\n",
        "\n",
        "**Goals:**\n",
        "\n",
        "* Analyze a line through two points in the following ways:\n",
        "    * Find the slope.\n",
        "    * Find the y-intercept.\n",
        "    * Find the x-intercept.\n",
        "    * Write the equation for the line in point-slope form.\n",
        "    * Write the equation for the line in y-intercept form.\n",
        "    \n",
        "* Complete the analysis described above on pencil and paper and by writing a series of functions in python.\n",
        "\n"
      ]
    },
    {
      "metadata": {
        "id": "0Urxic-wXKr_",
        "colab_type": "text"
      },
      "cell_type": "markdown",
      "source": [
        "# Classwork - Part 1\n",
        "\n",
        "Work through the first couple problems on the [handout from class](https://docs.google.com/document/d/17lISjvcsHr0hzoR2616qAmGFFrsmscvr_U9MPW3vFs8/edit?usp=sharing):\n",
        "\n",
        "---------------\n",
        "\n",
        "**Complete the function described below:**\n",
        "\n",
        "* a) slope\n",
        "* b) y_int\n",
        "* c) x_int\n",
        "\n",
        "As you complete each function, use it to check your work for Problem 1. \n",
        "\n",
        "Once you've completed functions **slope**, **y_int**, and **x_int**, complete Problems 3 and 4 on the back of your handout, and use your python functions to check your work."
      ]
    },
    {
      "metadata": {
        "id": "_CxF9saUXOKB",
        "colab_type": "text"
      },
      "cell_type": "markdown",
      "source": [
        "## a) slope\n",
        "\n",
        "Write a function called **slope(x1,y1,x2,y2)** that returns the slope of the line that passes through points (x1, y1) and (x2, y2). \n",
        "\n"
      ]
    },
    {
      "metadata": {
        "id": "q-Mem4qxXQG8",
        "colab_type": "code",
        "colab": {}
      },
      "cell_type": "code",
      "source": [
        "def slope(x1,y1,x2,y2):\n",
        "    "
      ],
      "execution_count": 0,
      "outputs": []
    },
    {
      "metadata": {
        "id": "juKzIY8H0qHr",
        "colab_type": "text"
      },
      "cell_type": "markdown",
      "source": [
        "## Example: Function that calls a function \n",
        "\n",
        "We will do this example together.\n",
        "\n"
      ]
    },
    {
      "metadata": {
        "id": "P0uNjhylJSNI",
        "colab_type": "code",
        "colab": {}
      },
      "cell_type": "code",
      "source": [
        "import math\n",
        "\n",
        "def sum_of_squares(a,b):\n",
        "    ...\n",
        "\n",
        "def hypotenuse(a,b):\n",
        "    ...\n",
        "    ...\n",
        "    ..."
      ],
      "execution_count": 0,
      "outputs": []
    },
    {
      "metadata": {
        "id": "oYxdowYw8xNH",
        "colab_type": "text"
      },
      "cell_type": "markdown",
      "source": [
        " *What does **sum_of_squares** return?*\n",
        "\n",
        " *What does **hypotenuse** return?*"
      ]
    },
    {
      "metadata": {
        "id": "Jwy-EkwxXR8y",
        "colab_type": "text"
      },
      "cell_type": "markdown",
      "source": [
        "## b) y_int\n",
        "Write a function called **y_int(x1,y1,x2,y2)** that returns the y-intercept of the line that passes through points (x1, y1) and (x2, y2).\n",
        "\n",
        "------------\n",
        "\n",
        "*Hint: you should call the **slope** function within your **y_int** function definition*"
      ]
    },
    {
      "metadata": {
        "id": "GckPuPYOXTig",
        "colab_type": "code",
        "colab": {}
      },
      "cell_type": "code",
      "source": [
        "def y_int(x1,y1,x2,y2):\n",
        "    "
      ],
      "execution_count": 0,
      "outputs": []
    },
    {
      "metadata": {
        "id": "9N6_e_mnXpwR",
        "colab_type": "text"
      },
      "cell_type": "markdown",
      "source": [
        "## c) x_int\n",
        "Write a function called **x_int(x1,y1,x2,y2)** that returns the x-intercept of the line that passes through points (x1, y1) and (x2, y2).\n",
        "\n",
        "---------------\n",
        "\n",
        "*Your function should make use of the **slope** and **y_int** functions.*"
      ]
    },
    {
      "metadata": {
        "id": "KkgN5DApXu4U",
        "colab_type": "code",
        "colab": {}
      },
      "cell_type": "code",
      "source": [
        "def x_int(x1,y1,x2,y2):\n",
        "    "
      ],
      "execution_count": 0,
      "outputs": []
    },
    {
      "metadata": {
        "id": "NcvsISxS1OTZ",
        "colab_type": "text"
      },
      "cell_type": "markdown",
      "source": [
        "# Classwork - Part 2\n",
        "\n"
      ]
    },
    {
      "metadata": {
        "id": "02JLMLVv5UCY",
        "colab_type": "text"
      },
      "cell_type": "markdown",
      "source": [
        "**Complete the function described below:**\n",
        "\n",
        "* d) point_slope\n",
        "* e) slope_intercept\n",
        "\n",
        "As you complete each function, use it to check your work for Problems 1, 3, and 4 on your handout. \n",
        "\n",
        "-----------\n",
        "\n",
        "**First look at the example below of a function that makes a print statement with strings and variables.**"
      ]
    },
    {
      "metadata": {
        "id": "bvp9LgaR0q-X",
        "colab_type": "text"
      },
      "cell_type": "markdown",
      "source": [
        "## Example: Function that prints a statement with strings and variables"
      ]
    },
    {
      "metadata": {
        "id": "9y2W2Y4vXVff",
        "colab_type": "code",
        "colab": {}
      },
      "cell_type": "code",
      "source": [
        "def print_age(name, age):\n",
        "    # this is a print statement\n",
        "    print(name,\"is\",age,\"years old.\")\n",
        "          \n",
        "print_age(\"Becca\",34)"
      ],
      "execution_count": 0,
      "outputs": []
    },
    {
      "metadata": {
        "id": "qeXlLulx5wnh",
        "colab_type": "text"
      },
      "cell_type": "markdown",
      "source": [
        "*What questions do you have about the function **print_age**?*"
      ]
    },
    {
      "metadata": {
        "id": "dLyL-FcxYn0q",
        "colab_type": "text"
      },
      "cell_type": "markdown",
      "source": [
        "## d) point_slope\n",
        "\n",
        "Write a function called **point_slope(x1,y1,x2,y2)** that prints the equation for the line in point-slope form. \n",
        "\n",
        "This function does not need to return a value. \n",
        "\n",
        "-----------------\n",
        "\n",
        "*Hint: Your function should make use of the **slope** function.*\n"
      ]
    },
    {
      "metadata": {
        "id": "8wKC07IiXYqO",
        "colab_type": "code",
        "colab": {}
      },
      "cell_type": "code",
      "source": [
        "def point_slope(x1,y1,x2,y2):\n",
        "    "
      ],
      "execution_count": 0,
      "outputs": []
    },
    {
      "metadata": {
        "id": "HMXVRavQXdzL",
        "colab_type": "text"
      },
      "cell_type": "markdown",
      "source": [
        "## e) slope_int\n",
        "\n",
        "Write a function called **slope_int(x1,y1,x2,y2)** that prints the equation for the line in slope-intercept form. \n",
        "\n",
        "This function does not need to return a value. \n",
        "\n",
        "---------------\n",
        "\n",
        "*Your function should make sure of the **slope** and **y_int** functions.*"
      ]
    },
    {
      "metadata": {
        "id": "NErSMP4mXm4z",
        "colab_type": "code",
        "colab": {}
      },
      "cell_type": "code",
      "source": [
        "def slope_int(x1,y1,x2,y2):\n",
        "    "
      ],
      "execution_count": 0,
      "outputs": []
    }
  ]
}