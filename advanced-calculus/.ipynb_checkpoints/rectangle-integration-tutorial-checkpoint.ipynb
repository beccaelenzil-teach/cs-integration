{
 "cells": [
  {
   "cell_type": "markdown",
   "metadata": {},
   "source": [
    "# Approximating the area under a curve.\n",
    "\n",
    "You can approximate the area under a curve between two x values *a* and *b* by finding the area of *n* number of rectangles. \n",
    "\n",
    "![rectangles1](http://www2.hawaii.edu/~yuxian/phys305/a4/image002.gif)\n",
    "\n",
    "![rectangles2](http://tutorial.math.lamar.edu/Classes/CalcI/AreaProblem_files/image009.gif)\n",
    "\n",
    "### With a partner\n",
    "\n",
    "Given an arbitraty function *f(x)*, a number of rectangles *n*, and lower and upper bounds *a* and *b*, determine a strategy for calculating the area of the *n* rectangles that fit under the curve for the given domain.\n"
   ]
  },
  {
   "cell_type": "markdown",
   "metadata": {},
   "source": [
    "# Coding the solution\n",
    "\n",
    "First we will define the function *f(x)*. Let's use the simble function *f(x) = 2x*. \n",
    "\n",
    "First the function is defined:\n",
    "```python\n",
    "def f(x):\n",
    "    return 2*x\n",
    "```\n",
    "\n",
    "Then the function is called substituting different values for the argument *x*\n",
    "```python\n",
    "y1 = f(2)\n",
    "y2 = f(-5)\n",
    "```\n",
    "\n",
    "Finally the return values can be printed to the screen\n",
    "```python\n",
    "print('f(2) =',y1)\n",
    "print('f(-5) =' ,y2)\n",
    "```\n",
    "\n",
    "Run the code block below to see it in action."
   ]
  },
  {
   "cell_type": "code",
   "execution_count": 1,
   "metadata": {},
   "outputs": [
    {
     "name": "stdout",
     "output_type": "stream",
     "text": [
      "f(2) = 4\n",
      "f(-5) = -10\n"
     ]
    }
   ],
   "source": [
    "def f(x):\n",
    "    return 2*x\n",
    "\n",
    "y1 = f(2)\n",
    "y2 = f(-5)\n",
    "\n",
    "print('f(2) =',y1)\n",
    "print('f(-5) =' ,y2)\n",
    "\n",
    "\n"
   ]
  },
  {
   "cell_type": "markdown",
   "metadata": {},
   "source": [
    "Next we will find the *x coordinates* for each of the *n* rectangles*\n",
    "\n",
    "First we will need to initialize variables\n",
    "```python\n",
    "x_list = []\n",
    "low = 2\n",
    "hi = 10\n",
    "N = 10\n",
    "```\n",
    "\n",
    "Then we will loop through the number of rectangles\n",
    "```python\n",
    "x = low\n",
    "for i in range(N):\n",
    "    x += (1/N)*(hi-low)\n",
    "    x_list.append(x))\n",
    "\n",
    "print(x_list)\n",
    "```\n"
   ]
  },
  {
   "cell_type": "code",
   "execution_count": 25,
   "metadata": {},
   "outputs": [],
   "source": [
    "x_list = []\n",
    "low = 2\n",
    "hi = 10\n",
    "N = 100\n",
    "\n",
    "x = low\n",
    "for i in range(N):\n",
    "    x += (1/N)*(hi-low)\n",
    "    x_list.append(x)\n",
    "\n",
    "#print(\"x coordinates: \", x_list)"
   ]
  },
  {
   "cell_type": "markdown",
   "metadata": {},
   "source": [
    "For each of the x coordinates, we will find the cooresponding y coordinate using our function f(x)\n",
    "\n",
    "```python \n",
    "#initialize empty list\n",
    "y_list = []\n",
    "\n",
    "#loops through the x coordinates\n",
    "for x in x_list:\n",
    "    y_list.append(f(x))\n",
    "  \n",
    "#print the y coordinates\n",
    "print(\"y coordinates: \", y_list)    \n",
    "```"
   ]
  },
  {
   "cell_type": "code",
   "execution_count": 26,
   "metadata": {},
   "outputs": [
    {
     "name": "stdout",
     "output_type": "stream",
     "text": [
      "y coordinates:  [4.16, 4.32, 4.48, 4.640000000000001, 4.800000000000001, 4.960000000000001, 5.120000000000001, 5.280000000000001, 5.440000000000001, 5.600000000000001, 5.760000000000002, 5.920000000000002, 6.080000000000002, 6.240000000000002, 6.400000000000002, 6.560000000000002, 6.720000000000002, 6.880000000000003, 7.040000000000003, 7.200000000000003, 7.360000000000003, 7.520000000000003, 7.680000000000003, 7.840000000000003, 8.000000000000004, 8.160000000000004, 8.320000000000004, 8.480000000000004, 8.640000000000004, 8.800000000000004, 8.960000000000004, 9.120000000000005, 9.280000000000005, 9.440000000000005, 9.600000000000005, 9.760000000000005, 9.920000000000005, 10.080000000000005, 10.240000000000006, 10.400000000000006, 10.560000000000006, 10.720000000000006, 10.880000000000006, 11.040000000000006, 11.200000000000006, 11.360000000000007, 11.520000000000007, 11.680000000000007, 11.840000000000007, 12.000000000000007, 12.160000000000007, 12.320000000000007, 12.480000000000008, 12.640000000000008, 12.800000000000008, 12.960000000000008, 13.120000000000008, 13.280000000000008, 13.440000000000008, 13.600000000000009, 13.760000000000009, 13.920000000000009, 14.080000000000009, 14.240000000000009, 14.40000000000001, 14.56000000000001, 14.72000000000001, 14.88000000000001, 15.04000000000001, 15.20000000000001, 15.36000000000001, 15.52000000000001, 15.68000000000001, 15.84000000000001, 16.00000000000001, 16.16000000000001, 16.32000000000001, 16.48000000000001, 16.64000000000001, 16.80000000000001, 16.96000000000001, 17.12000000000001, 17.280000000000012, 17.440000000000012, 17.600000000000012, 17.760000000000012, 17.920000000000012, 18.080000000000013, 18.240000000000013, 18.400000000000013, 18.560000000000013, 18.720000000000013, 18.880000000000013, 19.040000000000013, 19.200000000000014, 19.360000000000014, 19.520000000000014, 19.680000000000014, 19.840000000000014, 20.000000000000014]\n"
     ]
    }
   ],
   "source": [
    "#initialize empty list\n",
    "y_list = []\n",
    "\n",
    "#loops through the x coordinates\n",
    "for x in x_list:\n",
    "    y_list.append(f(x))\n",
    "  \n",
    "#print the y coordinates\n",
    "print(\"y coordinates: \", y_list)    "
   ]
  },
  {
   "cell_type": "markdown",
   "metadata": {},
   "source": [
    "Finally find the area of each rectangle and sum them up\n",
    "\n",
    "```python\n",
    "#Find the width of the rectangles\n",
    "width = x_list[1]-x_list[0]\n",
    "\n",
    "#Find the area of each rectangle and add them up\n",
    "area = 0\n",
    "for y in y_list:\n",
    "    area += width*y\n",
    "    \n",
    "#print the result\n",
    "print(\"total area =\",area)\n",
    "```"
   ]
  },
  {
   "cell_type": "code",
   "execution_count": 27,
   "metadata": {},
   "outputs": [
    {
     "name": "stdout",
     "output_type": "stream",
     "text": [
      "total area = 96.64000000000014\n"
     ]
    }
   ],
   "source": [
    "#Find the width of the rectangles\n",
    "width = x_list[1]-x_list[0]\n",
    "\n",
    "#Find the area of each rectangle and add them up\n",
    "area = 0\n",
    "for y in y_list:\n",
    "    area += width*y\n",
    "    \n",
    "#print the result\n",
    "print(\"total area =\",area)"
   ]
  },
  {
   "cell_type": "code",
   "execution_count": 29,
   "metadata": {},
   "outputs": [
    {
     "data": {
      "image/png": "[encoded data removed]",
      "text/plain": [
       "<matplotlib.figure.Figure at 0x115307c50>"
      ]
     },
     "metadata": {},
     "output_type": "display_data"
    }
   ],
   "source": [
    "\n",
    "\n",
    "x_list = []\n",
    "low = 2\n",
    "hi = 10\n",
    "N = 10\n",
    "\n",
    "def f(x):\n",
    "    return 2*x\n",
    "\n",
    "x = low\n",
    "for i in range(N):\n",
    "    x += (1/N)*(hi-low)\n",
    "    x_list.append(x)\n",
    "\n",
    "#initialize empty list\n",
    "y_list = []\n",
    "\n",
    "#loops through the x coordinates\n",
    "for x in x_list:\n",
    "    y_list.append(f(x))\n",
    "  \n",
    "#print the y coordinates\n",
    "print(\"y coordinates: \", y_list)  \n",
    "\n",
    "#Find the width of the rectangles\n",
    "width = x_list[1]-x_list[0]\n",
    "\n",
    "#Find the area of each rectangle and add them up\n",
    "area = 0\n",
    "for y in y_list:\n",
    "    area += width*y\n",
    "\n",
    "from matplotlib import pyplot as plt\n",
    "from matplotlib import patches\n",
    "\n",
    "for x in x_list:\n",
    "    rectangle = plt.Rectangle((x-width, 0), width, f(x), fc='r')\n",
    "    plt.gca().add_patch(rectangle)\n",
    "plt.plot(x_list, y_list)\n",
    "plt.show()\n",
    "\n"
   ]
  },
  {
   "cell_type": "code",
   "execution_count": null,
   "metadata": {
    "collapsed": true
   },
   "outputs": [],
   "source": []
  }
 ],
 "metadata": {
  "kernelspec": {
   "display_name": "Python 3",
   "language": "python",
   "name": "python3"
  },
  "language_info": {
   "codemirror_mode": {
    "name": "ipython",
    "version": 3
   },
   "file_extension": ".py",
   "mimetype": "text/x-python",
   "name": "python",
   "nbconvert_exporter": "python",
   "pygments_lexer": "ipython3",
   "version": "3.6.3"
  }
 },
 "nbformat": 4,
 "nbformat_minor": 2
}
