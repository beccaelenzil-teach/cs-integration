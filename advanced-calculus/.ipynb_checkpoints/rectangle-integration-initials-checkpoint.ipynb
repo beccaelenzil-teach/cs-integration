{
 "cells": [
  {
   "cell_type": "markdown",
   "metadata": {},
   "source": [
    "# Programming Integration Extension\n",
    "\n",
    "1. Change the program to integrate using (1) left-hand rectangles, (2) mid-point rectangles, or (3) trapezoids.\n",
    "\n",
    "2. Once your code is working, answer the following questions below:\n",
    "\n",
    "a. \n",
    "\n",
    "b. \n",
    "\n",
    "c. \n",
    "\n",
    "d. \n"
   ]
  },
  {
   "cell_type": "code",
   "execution_count": null,
   "metadata": {
    "collapsed": true
   },
   "outputs": [],
   "source": [
    "#Initialize Variables\n",
    "x_list = []\n",
    "y_list = []\n",
    "a = 2\n",
    "b = 10\n",
    "n = 5\n",
    "x = a\n",
    "\n",
    "#1. Define function\n",
    "def f(x):\n",
    "    return 2*x\n",
    "\n",
    "#2. Determine the width of the rectangles\n",
    "width = (1/n)*(b-a)\n",
    "\n",
    "#3. Determine the x coordinates\n",
    "for i in range(n):\n",
    "    x += width\n",
    "    x_list.append(x)\n",
    "\n",
    "#4. Determine the y coordinates\n",
    "for x in x_list:\n",
    "    y = f(x)\n",
    "    y_list.append(y)\n",
    "\n",
    "#5. Calculate the area of each rectangle and find their sum.\n",
    "area = 0\n",
    "for y in y_list:\n",
    "    area += width*y\n",
    "\n",
    "    \n",
    "#Plot the function and rectangles.\n",
    "from matplotlib import pyplot as plt\n",
    "from matplotlib import patches\n",
    "\n",
    "for x in x_list:\n",
    "    rectangle = plt.Rectangle((x-width, 0), width, f(x), fc='r', ec = 'b')\n",
    "    plt.gca().add_patch(rectangle)\n",
    "plt.plot(x_list, y_list)\n",
    "plt.show()  "
   ]
  }
 ],
 "metadata": {
  "kernelspec": {
   "display_name": "Python 3",
   "language": "python",
   "name": "python3"
  },
  "language_info": {
   "codemirror_mode": {
    "name": "ipython",
    "version": 3
   },
   "file_extension": ".py",
   "mimetype": "text/x-python",
   "name": "python",
   "nbconvert_exporter": "python",
   "pygments_lexer": "ipython3",
   "version": "3.6.3"
  }
 },
 "nbformat": 4,
 "nbformat_minor": 2
}
