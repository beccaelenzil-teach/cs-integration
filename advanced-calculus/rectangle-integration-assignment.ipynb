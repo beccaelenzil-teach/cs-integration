{
 "cells": [
  {
   "cell_type": "markdown",
   "metadata": {},
   "source": [
    "Programming Integration Extension\n",
    "\n",
    "1. Change the \"name\" in the title to you and your partner's name.\n",
    "\n",
    "2. Pick a new function.\n",
    "\n",
    "3. Change the program to integrate using (1) left-hand rectangles, (2) mid-point rectangles, or (3) trapezoids.\n",
    "\n",
    "4. Is the approximation you chose an over estimate, under estimate, or neither? Provide your answer below:\n",
    "\n"
   ]
  },
  {
   "cell_type": "code",
   "execution_count": 1,
   "metadata": {},
   "outputs": [
    {
     "data": {
      "image/png": "[encoded data removed]",
      "text/plain": [
       "<matplotlib.figure.Figure at 0x107a312b0>"
      ]
     },
     "metadata": {},
     "output_type": "display_data"
    }
   ],
   "source": [
    "#Initialize Variables\n",
    "x_list = []\n",
    "y_list = []\n",
    "a = 2\n",
    "b = 10\n",
    "n = 5\n",
    "x = a\n",
    "\n",
    "#1. Define function\n",
    "def f(x):\n",
    "    return 2*x\n",
    "\n",
    "#2. Determine the width of the rectangles\n",
    "width = (1/n)*(b-a)\n",
    "\n",
    "#3. Determine the x coordinates\n",
    "for i in range(n):\n",
    "    x += width\n",
    "    x_list.append(x)\n",
    "\n",
    "#4. Determine the y coordinates\n",
    "for x in x_list:\n",
    "    y = f(x)\n",
    "    y_list.append(y)\n",
    "\n",
    "#5. Calculate the area of each rectangle and find their sum.\n",
    "area = 0\n",
    "for y in y_list:\n",
    "    area += width*y\n",
    "\n",
    "\n",
    "#Plot the function and rectangles.\n",
    "from matplotlib import pyplot as plt\n",
    "from matplotlib import patches\n",
    "\n",
    "for x in x_list:\n",
    "    rectangle = plt.Rectangle((x-width, 0), width, f(x), fc='r', ec = 'b')\n",
    "    plt.gca().add_patch(rectangle)\n",
    "    \n",
    "\n",
    "x = a\n",
    "x_vals = []\n",
    "y_vals = []\n",
    "N = 10000\n",
    "w = (b-a)/N\n",
    "for i in range(N):\n",
    "    x += w\n",
    "    x_vals.append(x)\n",
    "    y_vals.append(f(x))\n",
    "    \n",
    "plt.plot(x_vals, y_vals)\n",
    "plt.show()     \n"
   ]
  },
  {
   "cell_type": "code",
   "execution_count": null,
   "metadata": {
    "collapsed": true
   },
   "outputs": [],
   "source": []
  }
 ],
 "metadata": {
  "kernelspec": {
   "display_name": "Python 3",
   "language": "python",
   "name": "python3"
  },
  "language_info": {
   "codemirror_mode": {
    "name": "ipython",
    "version": 3
   },
   "file_extension": ".py",
   "mimetype": "text/x-python",
   "name": "python",
   "nbconvert_exporter": "python",
   "pygments_lexer": "ipython3",
   "version": "3.6.3"
  }
 },
 "nbformat": 4,
 "nbformat_minor": 2
}
