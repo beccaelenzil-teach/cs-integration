{
 "cells": [
  {
   "cell_type": "markdown",
   "metadata": {},
   "source": [
    "# Approximating the area under a curve.\n",
    "\n",
    "You can approximate the area under a curve between two x values *a* and *b* by finding the area of *n* number of rectangles. \n",
    "\n",
    "![rectangles1](http://www2.hawaii.edu/~yuxian/phys305/a4/image002.gif)\n",
    "\n",
    "![rectangles2](http://tutorial.math.lamar.edu/Classes/CalcI/AreaProblem_files/image009.gif)\n",
    "\n",
    "### With a partner\n",
    "\n",
    "Given an arbitraty function *f(x)*, a number of rectangles *n*, and lower and upper bounds *a* and *b*, determine a strategy for calculating the area of the *n* rectangles that fit under the curve for the given domain.\n"
   ]
  },
  {
   "cell_type": "markdown",
   "metadata": {},
   "source": [
    "# Coding the solution\n",
    "\n",
    "First we will define the function *f(x)*. Let's use the simble function *f(x) = 2x*. \n",
    "\n",
    "First the function is defined:\n",
    "```python\n",
    "def f(x):\n",
    "    return 2*x\n",
    "```\n",
    "\n",
    "Then the function is called substituting different values for the argument *x*\n",
    "```python\n",
    "y1 = f(2)\n",
    "y2 = f(-5)\n",
    "```\n",
    "\n",
    "Finally the return values can be printed to the screen\n",
    "```python\n",
    "print('f(2) =',y1)\n",
    "print('f(-5) =' ,y2)\n",
    "```\n",
    "\n",
    "Run the code block below to see it in action."
   ]
  },
  {
   "cell_type": "code",
   "execution_count": 2,
   "metadata": {},
   "outputs": [
    {
     "name": "stdout",
     "output_type": "stream",
     "text": [
      "f(2) = 4\n",
      "f(-5) = -10\n"
     ]
    }
   ],
   "source": [
    "def f(x):\n",
    "    return 2*x\n",
    "\n",
    "y1 = f(2)\n",
    "y2 = f(-5)\n",
    "\n",
    "print('f(2) =',y1)\n",
    "print('f(-5) =' ,y2)\n",
    "\n",
    "\n"
   ]
  },
  {
   "cell_type": "markdown",
   "metadata": {},
   "source": [
    "Next we will find the *x coordinates* for each of the *n* rectangles*\n",
    "\n",
    "First we will need to initialize variables\n",
    "```python\n",
    "x_list = []\n",
    "low = 2\n",
    "hi = 10\n",
    "N = 10\n",
    "```\n",
    "\n",
    "Then we will loop through the number of rectangles\n",
    "```python\n",
    "x = low\n",
    "for i in range(N):\n",
    "    x += (1/N)*(hi-low)\n",
    "    x_list.append(x))\n",
    "\n",
    "print(x_list)\n",
    "```\n"
   ]
  },
  {
   "cell_type": "code",
   "execution_count": 5,
   "metadata": {},
   "outputs": [
    {
     "name": "stdout",
     "output_type": "stream",
     "text": [
      "x coordinates:  [2.8, 3.5999999999999996, 4.3999999999999995, 5.199999999999999, 5.999999999999999, 6.799999999999999, 7.599999999999999, 8.399999999999999, 9.2, 10.0]\n"
     ]
    }
   ],
   "source": [
    "x_list = []\n",
    "low = 2\n",
    "hi = 10\n",
    "N = 10\n",
    "\n",
    "x = low\n",
    "for i in range(N):\n",
    "    x += (1/N)*(hi-low)\n",
    "    x_list.append(x)\n",
    "\n",
    "print(\"x coordinates: \", x_list)"
   ]
  },
  {
   "cell_type": "markdown",
   "metadata": {},
   "source": [
    "For each of the x coordinates, we will find the cooresponding y coordinate using our function f(x)\n",
    "\n",
    "```python \n",
    "#initialize empty list\n",
    "y_list = []\n",
    "\n",
    "#loops through the x coordinates\n",
    "for x in x_list:\n",
    "    y_list.append(f(x))\n",
    "  \n",
    "#print the y coordinates\n",
    "print(\"y coordinates: \", y_list)    \n",
    "```"
   ]
  },
  {
   "cell_type": "code",
   "execution_count": 6,
   "metadata": {},
   "outputs": [
    {
     "name": "stdout",
     "output_type": "stream",
     "text": [
      "y coordinates:  [5.6, 7.199999999999999, 8.799999999999999, 10.399999999999999, 11.999999999999998, 13.599999999999998, 15.199999999999998, 16.799999999999997, 18.4, 20.0]\n"
     ]
    }
   ],
   "source": [
    "#initialize empty list\n",
    "y_list = []\n",
    "\n",
    "#loops through the x coordinates\n",
    "for x in x_list:\n",
    "    y_list.append(f(x))\n",
    "  \n",
    "#print the y coordinates\n",
    "print(\"y coordinates: \", y_list)    "
   ]
  },
  {
   "cell_type": "markdown",
   "metadata": {},
   "source": [
    "Finally find the area of each rectangle and sum them up\n",
    "\n",
    "```python\n",
    "#Find the width of the rectangles\n",
    "width = x_list[1]-x_list[0]\n",
    "\n",
    "#Find the area of each rectangle and add them up\n",
    "area = 0\n",
    "for y in y_list:\n",
    "    area += width*y\n",
    "    \n",
    "#print the result\n",
    "print(\"total area =\",area)\n",
    "```"
   ]
  },
  {
   "cell_type": "code",
   "execution_count": 9,
   "metadata": {},
   "outputs": [
    {
     "name": "stdout",
     "output_type": "stream",
     "text": [
      "total area = 102.39999999999998\n"
     ]
    }
   ],
   "source": [
    "#Find the width of the rectangles\n",
    "width = x_list[1]-x_list[0]\n",
    "\n",
    "#Find the area of each rectangle and add them up\n",
    "area = 0\n",
    "for y in y_list:\n",
    "    area += width*y\n",
    "    \n",
    "#print the result\n",
    "print(\"total area =\",area)"
   ]
  },
  {
   "cell_type": "code",
   "execution_count": null,
   "metadata": {
    "collapsed": true
   },
   "outputs": [],
   "source": []
  }
 ],
 "metadata": {
  "kernelspec": {
   "display_name": "Python 3",
   "language": "python",
   "name": "python3"
  },
  "language_info": {
   "codemirror_mode": {
    "name": "ipython",
    "version": 3
   },
   "file_extension": ".py",
   "mimetype": "text/x-python",
   "name": "python",
   "nbconvert_exporter": "python",
   "pygments_lexer": "ipython3",
   "version": "3.6.3"
  }
 },
 "nbformat": 4,
 "nbformat_minor": 2
}
