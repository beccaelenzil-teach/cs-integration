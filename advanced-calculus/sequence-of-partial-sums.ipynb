{
 "cells": [
  {
   "cell_type": "markdown",
   "metadata": {},
   "source": [
    "Today you will write a short script to calculate an plot a **sequence of partial sums.**\n",
    "\n",
    "- First write down the steps you need to take to fine a sequence of partial sums.\n",
    "- Then review the code below for approximating the area between two curves.\n",
    "    - As you go through the code, make sure you understand what each line is doing."
   ]
  },
  {
   "cell_type": "code",
   "execution_count": null,
   "metadata": {
    "collapsed": true
   },
   "outputs": [],
   "source": [
    "import math\n",
    "\n",
    "#Initialize Variables\n",
    "x_list = []\n",
    "f_x_list = []\n",
    "g_x_list = []\n",
    "h_list = []\n",
    "a = 5\n",
    "b = 100\n",
    "n = 50\n",
    "x = a\n",
    "cs = None\n",
    "area = 0\n",
    "\n",
    "#1. Define function\n",
    "def f(x):\n",
    "    return math.sin(x+2)\n",
    "\n",
    "def g(x):\n",
    "    return math.sin(x)\n",
    "\n",
    "#2. Determine the width of the rectangles\n",
    "width = (1/n)*(b-a)\n",
    "\n",
    "#3. Find the x coordinates, y coordinates, and area of rectangles\n",
    "for i in range(n):\n",
    "    \n",
    "    #y values\n",
    "    f_x = f(x)\n",
    "    g_x = g(x)\n",
    "    \n",
    "    # height\n",
    "    h = abs(f(x)-g(x))\n",
    "    \n",
    "    # lists\n",
    "    f_x_list.append(f_x)\n",
    "    g_x_list.append(g_x)\n",
    "    h_list.append(h)\n",
    "    x_list.append(x)\n",
    "\n",
    "    # area\n",
    "    area += width*h\n",
    "        \n",
    "    x += width\n",
    "    \n",
    "print(\"area: \", area)"
   ]
  },
  {
   "cell_type": "markdown",
   "metadata": {},
   "source": [
    "Using the code block below as a template, write a script that calculates a sequences of partial sums for an infinite series:\n",
    "\n",
    "Work together! We will go over this together, but I want you to puzzle through it for a bit first."
   ]
  },
  {
   "cell_type": "code",
   "execution_count": null,
   "metadata": {
    "collapsed": true
   },
   "outputs": [],
   "source": [
    "import math\n",
    "import matplotlib.pyplot as plt\n",
    "\n",
    "# function definition\n",
    "def f1(n):\n",
    "    return # function expression in terms of n\n",
    "\n",
    "def sequence(function, i)\n",
    "\n",
    "    # initialize value of the sum\n",
    "    \n",
    "    # initialize empty list to store cumulative sum\n",
    "    \n",
    "    # initialize empty list to store n values\n",
    "    \n",
    "    for n in range(1,i):\n",
    "        # update the value of the sum\n",
    "        \n",
    "        # append the new sum value to a list\n",
    "        \n",
    "    #plot the sequence of partial sums\n",
    "    \n",
    "\n",
    "# call sequence function with f1 and i = 100\n",
    " \n",
    "    "
   ]
  },
  {
   "cell_type": "markdown",
   "metadata": {},
   "source": [
    "--\n",
    "--\n",
    "--\n",
    "--\n",
    "--\n",
    "--\n",
    "--\n",
    "--\n",
    "--\n",
    "--\n",
    "--\n",
    "--\n",
    "--\n",
    "--\n",
    "--\n",
    "--\n",
    "--\n",
    "--\n",
    "\n",
    "## Solution"
   ]
  },
  {
   "cell_type": "code",
   "execution_count": 15,
   "metadata": {},
   "outputs": [
    {
     "name": "stdout",
     "output_type": "stream",
     "text": [
      "(n-1)!/n^2\n",
      "999\n",
      "999\n"
     ]
    },
    {
     "name": "stderr",
     "output_type": "stream",
     "text": [
      "/Users/becca.elenzil/anaconda3/lib/python3.6/site-packages/matplotlib/ticker.py:1747: RuntimeWarning: overflow encountered in multiply\n",
      "  steps = self._extended_steps * scale\n"
     ]
    },
    {
     "data": {
      "image/png": "[encoded data removed]",
      "text/plain": [
       "<matplotlib.figure.Figure at 0x10fb56c18>"
      ]
     },
     "metadata": {},
     "output_type": "display_data"
    }
   ],
   "source": [
    "import math\n",
    "import matplotlib.pyplot as plt\n",
    "\n",
    "\n",
    "def f1(n):\n",
    "    return math.factorial(n-1)/n*n\n",
    "\n",
    "def f2(n):\n",
    "    return (math.e)**n\n",
    "\n",
    "def f3(n):\n",
    "    return math.tan(1/n)\n",
    "\n",
    "def f4(n):  \n",
    "    return (1/n**2)*math.tan(1/n)\n",
    "\n",
    "def f5(n):\n",
    "    return (-1)**(n-1)*2**n/(n**2)\n",
    "\n",
    "def f6(n):\n",
    "    return math.sin(n**2)/(n**2)\n",
    "def f7(n):\n",
    "    return (n+2)/(n**2-1)\n",
    "    \n",
    "def f8(n):\n",
    "    return 1/n\n",
    "\n",
    "\n",
    "\n",
    "def sequence(function, i):\n",
    "    sum_list = []\n",
    "    n_list = []\n",
    "    the_sum = 0\n",
    "\n",
    "    for n in range(1,i):\n",
    "        try:\n",
    "            the_sum += function(n)\n",
    "        except:\n",
    "            the_sum = the_sum\n",
    "        sum_list.append(the_sum)\n",
    "        n_list.append(n)\n",
    "    print(len(n_list))\n",
    "    print(len(sum_list))\n",
    "    plt.plot(n_list, sum_list)\n",
    "    plt.show()\n",
    "        \n",
    "print('(n-1)!/n^2')\n",
    "sequence(f2, 1000)\n",
    "        \n",
    "    \n",
    "    \n",
    "\n",
    "        "
   ]
  },
  {
   "cell_type": "code",
   "execution_count": null,
   "metadata": {
    "collapsed": true
   },
   "outputs": [],
   "source": []
  }
 ],
 "metadata": {
  "kernelspec": {
   "display_name": "Python 3",
   "language": "python",
   "name": "python3"
  },
  "language_info": {
   "codemirror_mode": {
    "name": "ipython",
    "version": 3
   },
   "file_extension": ".py",
   "mimetype": "text/x-python",
   "name": "python",
   "nbconvert_exporter": "python",
   "pygments_lexer": "ipython3",
   "version": "3.6.3"
  }
 },
 "nbformat": 4,
 "nbformat_minor": 2
}
