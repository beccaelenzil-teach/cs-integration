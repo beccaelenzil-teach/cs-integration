{
 "cells": [
  {
   "cell_type": "markdown",
   "metadata": {},
   "source": [
    "# Approximating the area under a curve.\n",
    "\n",
    "You can approximate the area under a curve between two x values *a* and *b* by finding the area of *n* number of rectangles. \n",
    "\n",
    "![rectangles1](http://www2.hawaii.edu/~yuxian/phys305/a4/image002.gif)\n",
    "\n",
    "![rectangles2](http://tutorial.math.lamar.edu/Classes/CalcI/AreaProblem_files/image009.gif)\n",
    "\n",
    "### With a partner\n",
    "\n",
    "Given an arbitraty function *f(x)*, a number of rectangles *n*, and lower and upper bounds *a* and *b*, outline a step-by-step strategy for calculating the area of the *n* rectangles that fit under the curve for the given domain.\n",
    "\n",
    "Complete these steps for function *f(x) = 2x* for the domain *(2,10)* with *n = 5*.\n",
    "\n",
    ".\n",
    ".\n",
    ".\n",
    ".\n",
    ".\n",
    ".\n",
    "\n",
    "\n",
    "\n",
    "### Steps we're going to code.\n",
    "\n",
    "1. Define the function\n",
    "2. Determine the width of the rectangles.\n",
    "3. Determine the x coordinates of the rectangles.\n",
    "4. Determine the cooresponding y coordinates of the rectangles.\n",
    "5. Calculate the area of each rectangle and find their sum.\n",
    "\n"
   ]
  },
  {
   "cell_type": "markdown",
   "metadata": {},
   "source": [
    "# Coding the solution\n",
    "*-*\n",
    "### 1. Define the function\n",
    "\n",
    "First we will define the function *f(x)*. Let's use the simple function *f(x) = 2x*. \n",
    "\n",
    "First the function is defined:\n",
    "```python\n",
    "def f(x):\n",
    "    return 2*x\n",
    "```\n",
    "\n",
    "Then the function is called substituting different values for the argument *x*\n",
    "```python\n",
    "y1 = f(2)\n",
    "y2 = f(-5)\n",
    "```\n",
    "\n",
    "Finally the return values can be printed to the screen\n",
    "```python\n",
    "print('f(2) =',y1)\n",
    "print('f(-5) =' ,y2)\n",
    "```\n",
    "\n",
    "Run the code block below to see it in action."
   ]
  },
  {
   "cell_type": "code",
   "execution_count": 37,
   "metadata": {},
   "outputs": [
    {
     "name": "stdout",
     "output_type": "stream",
     "text": [
      "f(2) = 4\n",
      "f(-5) = -10\n"
     ]
    }
   ],
   "source": [
    "def f(x):\n",
    "    return 2*x\n",
    "\n",
    "y1 = f(2)\n",
    "y2 = f(-5)\n",
    "\n",
    "print('f(2) =',y1)\n",
    "print('f(-5) =' ,y2)\n",
    "\n",
    "\n"
   ]
  },
  {
   "cell_type": "markdown",
   "metadata": {},
   "source": [
    "*-*\n",
    "### 2. Calculate the width of the rectangles.\n",
    "Given a domain (a,b) and a number of rectangles *n*.\n",
    "\n",
    "```python\n",
    "a = 2\n",
    "b = 10\n",
    "n = 10\n",
    "\n",
    "width = 1/n*(b-a)\n",
    "```\n",
    "Run the code below to make sure width is what you expect it to be. Uncomment the final line by removing the *#*."
   ]
  },
  {
   "cell_type": "code",
   "execution_count": 38,
   "metadata": {},
   "outputs": [
    {
     "name": "stdout",
     "output_type": "stream",
     "text": [
      "width:  0.8\n"
     ]
    }
   ],
   "source": [
    "a = 2\n",
    "b = 10\n",
    "n = 10\n",
    "\n",
    "width = 1/n*(b-a)\n",
    "\n",
    "#print(\"width: \", width)"
   ]
  },
  {
   "cell_type": "markdown",
   "metadata": {},
   "source": [
    "*-*\n",
    "\n",
    "### 3. Determine the x coordinates of the rectangles.\n",
    "\n",
    "Next we will find the x-coordinates for the right hand side of the rectangles and append these values to a list. \n",
    "- We will call our list *x_list* and we will initialize it as an empty list (*x_list = []*). \n",
    "- We will initialize the first x coordinate as the lower bound of our domain, *a*.\n",
    "- Then we will loop through the number of rectangles *n* and append each x coordinate to the the list *x_list*\n",
    "- Finally we will print x_list to the screen the make sure we have the values in the list we expect.\n",
    "\n",
    "```python\n",
    "\n",
    "#initialize\n",
    "x_coords = []\n",
    "x = a\n",
    "\n",
    "#loop through number of rectangles\n",
    "for i in range(n):\n",
    "    x += width\n",
    "    x_list.append(x)\n",
    "\n",
    "#print x_list\n",
    "print(\"x_list: \",x_list)\n",
    "```\n",
    "\n",
    "Run the code below. "
   ]
  },
  {
   "cell_type": "code",
   "execution_count": 41,
   "metadata": {},
   "outputs": [
    {
     "name": "stdout",
     "output_type": "stream",
     "text": [
      "x_list:  [2.8, 3.5999999999999996, 4.3999999999999995, 5.199999999999999, 5.999999999999999, 6.799999999999999, 7.599999999999999, 8.399999999999999, 9.2, 10.0]\n"
     ]
    }
   ],
   "source": [
    "#initialize\n",
    "x_list = []\n",
    "x = a\n",
    "\n",
    "#loop through number of rectangles\n",
    "for i in range(n):\n",
    "    x += width\n",
    "    x_list.append(x)\n",
    "\n",
    "#print x_list\n",
    "print(\"x_list: \",x_list)"
   ]
  },
  {
   "cell_type": "markdown",
   "metadata": {},
   "source": [
    "*-*\n",
    "### 4. Determine cooresponding y coordinate using our function f(x)\n",
    "\n",
    "- First we will initialize an empty list to store the y coordinates called *y_list*.\n",
    "- Then we will loop through each of the x coordinates in *x_list* and pass them to the function.\n",
    "- We will append each of the y values returned from *f(x)* to our list *y_list*\n",
    "\n",
    "```python \n",
    "#initialize empty list\n",
    "y_list = []\n",
    "\n",
    "#loops through the x coordinates\n",
    "for x in x_list:\n",
    "    y = f(x)\n",
    "    y_list.append(y)\n",
    "  \n",
    "#print the y coordinates\n",
    "print(\"y_list: \", y_list)    \n",
    "```"
   ]
  },
  {
   "cell_type": "code",
   "execution_count": 42,
   "metadata": {},
   "outputs": [
    {
     "name": "stdout",
     "output_type": "stream",
     "text": [
      "y coordinates:  [5.6, 7.199999999999999, 8.799999999999999, 10.399999999999999, 11.999999999999998, 13.599999999999998, 15.199999999999998, 16.799999999999997, 18.4, 20.0]\n"
     ]
    }
   ],
   "source": [
    "#initialize empty list\n",
    "y_list = []\n",
    "\n",
    "#loops through the x coordinates\n",
    "for x in x_list:\n",
    "    y_list.append(f(x))\n",
    "  \n",
    "#print the y coordinates\n",
    "print(\"y coordinates: \", y_list)    "
   ]
  },
  {
   "cell_type": "markdown",
   "metadata": {},
   "source": [
    "*-*\n",
    "### 5. Calculate the area of each rectangle and find their sum.\n",
    "- Intialize a variable area to zero, *area = 0*.\n",
    "- Loop through y_list and multiple each y value by the width and at the product to the sum.\n",
    "\n",
    "```python\n",
    "#Find the area of each rectangle and add them up\n",
    "area = 0\n",
    "for y in y_list:\n",
    "    area += width*y\n",
    "    \n",
    "#print the result\n",
    "print(\"total area =\",area)\n",
    "```\n",
    "\n",
    "Run the code blow."
   ]
  },
  {
   "cell_type": "code",
   "execution_count": 27,
   "metadata": {},
   "outputs": [
    {
     "name": "stdout",
     "output_type": "stream",
     "text": [
      "total area = 96.64000000000014\n"
     ]
    }
   ],
   "source": [
    "#Find the area of each rectangle and add them up\n",
    "area = 0\n",
    "for y in y_list:\n",
    "    area += width*y\n",
    "    \n",
    "#print the result\n",
    "print(\"total area =\",area)"
   ]
  },
  {
   "cell_type": "markdown",
   "metadata": {},
   "source": [
    "*-*\n",
    "### Finally we'll put all the code into one code window and plot the function and rectangles."
   ]
  },
  {
   "cell_type": "code",
   "execution_count": 43,
   "metadata": {},
   "outputs": [
    {
     "data": {
      "image/png": "[encoded data removed]",
      "text/plain": [
       "<matplotlib.figure.Figure at 0x1157bd748>"
      ]
     },
     "metadata": {},
     "output_type": "display_data"
    }
   ],
   "source": [
    "#Initialize Variables\n",
    "x_list = []\n",
    "y_list = []\n",
    "a = 2\n",
    "b = 10\n",
    "n = 5\n",
    "x = a\n",
    "\n",
    "#1. Define function\n",
    "def f(x):\n",
    "    return 2*x\n",
    "\n",
    "#2. Determine the width of the rectangles\n",
    "width = (1/n)*(b-a)\n",
    "\n",
    "#3. Determine the x coordinates\n",
    "for i in range(n):\n",
    "    x += width\n",
    "    x_list.append(x)\n",
    "\n",
    "#4. Determine the y coordinates\n",
    "for x in x_list:\n",
    "    y = f(x)\n",
    "    y_list.append(y)\n",
    "\n",
    "#5. Calculate the area of each rectangle and find their sum.\n",
    "area = 0\n",
    "for y in y_list:\n",
    "    area += width*y\n",
    "\n",
    "    \n",
    "#Plot the function and rectangles.\n",
    "from matplotlib import pyplot as plt\n",
    "from matplotlib import patches\n",
    "\n",
    "for x in x_list:\n",
    "    rectangle = plt.Rectangle((x-width, 0), width, f(x), fc='r', ec = 'b')\n",
    "    plt.gca().add_patch(rectangle)\n",
    "plt.plot(x_list, y_list)\n",
    "plt.show()   "
   ]
  },
  {
   "cell_type": "code",
   "execution_count": null,
   "metadata": {
    "collapsed": true
   },
   "outputs": [],
   "source": []
  }
 ],
 "metadata": {
  "kernelspec": {
   "display_name": "Python 3",
   "language": "python",
   "name": "python3"
  },
  "language_info": {
   "codemirror_mode": {
    "name": "ipython",
    "version": 3
   },
   "file_extension": ".py",
   "mimetype": "text/x-python",
   "name": "python",
   "nbconvert_exporter": "python",
   "pygments_lexer": "ipython3",
   "version": "3.6.3"
  }
 },
 "nbformat": 4,
 "nbformat_minor": 2
}
