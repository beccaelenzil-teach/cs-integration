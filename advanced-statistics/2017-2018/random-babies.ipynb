{
 "cells": [
  {
   "cell_type": "markdown",
   "metadata": {},
   "source": [
    "# Random Babies"
   ]
  },
  {
   "cell_type": "markdown",
   "metadata": {},
   "source": [
    "**Function Definition**<br>\n",
    "\n",
    "First we will import the random module (library, api), because we will need it to randomly shuffly the list of babies.<br> \n",
    "Second we will define a function ```simulate_babies(n)``` that takes ```n``` as an argument, where ```n``` is the number of simulations you wish to run.<br> \n",
    "Functions should always include documentation called a **docstring**. A **docstring** includes a basic description if of the function, including its inputs and outputs. The **docstring** is tabbed in from the function definition and begins with ```\"\"\"``` and ends with ```\"\"\"```."
   ]
  },
  {
   "cell_type": "markdown",
   "metadata": {},
   "source": [
    "```python\n",
    "import random\n",
    "\n",
    "def simulate_babies(n):\n",
    "    \"\"\"\n",
    "    input: number of simulations n\n",
    "    return: \n",
    "    (1) a list where each entry is the number of matches each simulation, \n",
    "    (2) a list containing the number of total 0 matches, 1 matches .. 4 matches for all simulations \n",
    "    \"\"\"\n",
    "```"
   ]
  },
  {
   "cell_type": "markdown",
   "metadata": {},
   "source": [
    "**Initializing Variables and Lists**\n",
    "\n",
    "Next we will initialize a few variables and lists.<br>\n",
    "**mom** is a list that contains for moms. We will call our babies A, B, C, and D.<br>\n",
    "**baby** is a list that contains the same name as our four moms. <br>\n",
    "Initially the **moms** in the list **mom** and the **babies** in list **baby** are in the same order.\n",
    "\n",
    "```python\n",
    "mom = ['A', 'B', 'C', 'D']\n",
    "baby = ['A', 'B', 'C', 'D']\n",
    "```\n",
    "\n",
    "If we compare these two lists we would say that all the babies are properly matched with their moms.\n",
    "\n",
    "If we shuffle the order of the babies using **random.shuffle()** all the moms and babies will no longer be matched. In a few steps we will get to the log for comparing the lists of moms and babies and algorithmically determing how many matches there are. Run the code below to see how **random.shuffle()** works. The **for loop** will shuffle **baby** 10 times."
   ]
  },
  {
   "cell_type": "code",
   "execution_count": 1,
   "metadata": {},
   "outputs": [
    {
     "name": "stdout",
     "output_type": "stream",
     "text": [
      "baby:  ['A', 'B', 'C', 'D']\n",
      "shuffled baby:  ['C', 'B', 'D', 'A']\n",
      "shuffled baby:  ['B', 'C', 'A', 'D']\n",
      "shuffled baby:  ['B', 'A', 'C', 'D']\n",
      "shuffled baby:  ['B', 'D', 'A', 'C']\n",
      "shuffled baby:  ['D', 'B', 'A', 'C']\n",
      "shuffled baby:  ['A', 'D', 'C', 'B']\n",
      "shuffled baby:  ['B', 'D', 'C', 'A']\n",
      "shuffled baby:  ['C', 'D', 'A', 'B']\n",
      "shuffled baby:  ['B', 'C', 'D', 'A']\n",
      "shuffled baby:  ['C', 'D', 'B', 'A']\n"
     ]
    }
   ],
   "source": [
    "import random\n",
    "import time\n",
    "\n",
    "def shuffle():\n",
    "    baby = ['A','B','C','D']\n",
    "    print(\"baby: \", baby)\n",
    "\n",
    "    for i in range(10):\n",
    "        random.shuffle(baby)\n",
    "        print(\"shuffled baby: \",baby)\n",
    "        time.sleep(1)\n",
    "\n",
    "shuffle()"
   ]
  },
  {
   "cell_type": "markdown",
   "metadata": {},
   "source": [
    "# Think - Pair - Share\n",
    "\n",
    "1. In your own words, what is the code above doing?\n",
    "2. How would you change the code above to shuffle the baby list 20 times?\n",
    "3. How would you change the code above to include 5 babies in the simulation?\n",
    "4. How would you change the amount of time it pauses between printing each shuffle?\n",
    "\n",
    "-------------------------------------------------------------------------"
   ]
  },
  {
   "cell_type": "markdown",
   "metadata": {},
   "source": [
    "# Continuing on...\n",
    "\n",
    "Before we calculate the number of matches we need to initialize a couple more variable.<br>\n",
    "First we need a variable to keep track of the number of matches. We will call this variable **matches** and initialize it to 0.<br>\n",
    "\n",
    "```python\n",
    "matches = 0\n",
    "```\n",
    "\n",
    "Second we need a list to keep track of the number of matches each simulation. We will call this list **matches_list** and initialize it as an empty list.\n",
    "\n",
    "```python\n",
    "matches_list = []\n",
    "```\n",
    "\n",
    "\n",
    "This is what we have so far:\n",
    "\n",
    "```python\n",
    "import random\n",
    "\n",
    "def simulate_babies(n):\n",
    "    \"\"\"\n",
    "    input: number of simulations n\n",
    "    return: \n",
    "    (1) a list where each entry is the number of matches each simulation, \n",
    "    (2) a list containing the number of total 0 matches, 1 matches .. 4 matches for all simulations \n",
    "    \"\"\"\n",
    "    \n",
    "    mom = ['A', 'B', 'C', 'D']\n",
    "    baby = ['A', 'B', 'C', 'D']\n",
    "    \n",
    "    matches = 0\n",
    "    matches_list = []\n",
    "```"
   ]
  },
  {
   "cell_type": "markdown",
   "metadata": {},
   "source": [
    "**Checking for matches**\n",
    "\n",
    "Next we will run the simulation n times using a for loop:\n",
    "\n",
    "```python\n",
    "    for i in range(n):\n",
    "```        \n",
    "        \n",
    "Each simulation we will shuffle the **baby** list and check for matches with the **mom** list. A match is indicated by a baby being in the same location (index) as the mom in each of the lists. In python, indices are indicated with square brackets.\n",
    "\n",
    "```python\n",
    "        random.shuffle(baby)\n",
    "        \n",
    "        # determine number of matches\n",
    "        if baby[0] == mom[0]:\n",
    "            matches += 1 \n",
    "        if baby[1] == mom[1]:\n",
    "            matches += 1\n",
    "        if baby[2] == mom[2]:\n",
    "            matches += 1 \n",
    "        if baby[3] == mom[3]:\n",
    "            matches += 1 \n",
    "```\n",
    "\n",
    "Finally, we will append the the matches from each simulation to our list of matches. And reset matches to 0 for the next run of the simulation.\n",
    "\n",
    "```python\n",
    "        matches_list.append(matches)\n",
    "        matches = 0\n",
    "```\n",
    "\n",
    "After the for loop is complete (so one tab level to the left), we will return matches_list.\n",
    "\n",
    "```python\n",
    "    return matches_list\n",
    "```"
   ]
  },
  {
   "cell_type": "code",
   "execution_count": 4,
   "metadata": {},
   "outputs": [
    {
     "name": "stdout",
     "output_type": "stream",
     "text": [
      "[1, 2, 2, 0, 2, 0, 2, 0, 1, 1, 0, 0, 2, 1, 1, 0, 2, 4, 2, 0, 1, 1, 1, 2, 0, 2, 0, 2, 0, 1, 1, 2, 1, 0, 0, 1, 1, 1, 0, 2, 1, 0, 0, 2, 2, 2, 2, 0, 1, 1, 0, 2, 1, 2, 2, 2, 0, 2, 1, 1, 1, 1, 2, 0, 0, 1, 4, 0, 2, 4, 0, 0, 0, 0, 0, 0, 2, 1, 0, 2, 0, 1, 2, 0, 0, 0, 1, 0, 1, 0, 0, 0, 0, 1, 1, 2, 2, 0, 4, 1]\n"
     ]
    }
   ],
   "source": [
    "import random\n",
    "\n",
    "def simulate_babies(n):\n",
    "    \"\"\"\n",
    "    input: number of simulations n\n",
    "    return: \n",
    "    (1) a list where each entry is the number of matches each simulation, \n",
    "    (2) a list containing the number of total 0 matches, 1 matches .. 4 matches for all simulations \n",
    "    \"\"\"\n",
    "\n",
    "    mom = ['A', 'B', 'C', 'D']\n",
    "    baby = ['A', 'B', 'C', 'D']\n",
    "\n",
    "    matches = 0\n",
    "    matches_list = []\n",
    "    \n",
    "    for i in range(n):\n",
    "        \n",
    "        random.shuffle(baby)\n",
    "        \n",
    "        if baby[0] == mom[0]:\n",
    "            matches += 1 \n",
    "        if baby[1] == mom[1]:\n",
    "            matches += 1\n",
    "        if baby[2] == mom[2]:\n",
    "            matches += 1 \n",
    "        if baby[3] == mom[3]:\n",
    "            matches += 1 \n",
    "            \n",
    "        matches_list.append(matches)\n",
    "        matches = 0\n",
    "        \n",
    "    return matches_list\n",
    "\n",
    "matches_list = simulate_babies(100)\n",
    "print(matches_list)"
   ]
  },
  {
   "cell_type": "markdown",
   "metadata": {},
   "source": [
    "# Think - Pair - Share\n",
    "\n",
    "1. How would you change the function call to run the simulation 1000 times, 10,000 times, etc.?\n",
    "2. Why don't we shuffle the mom list?\n",
    "3. Change the program to shuffle moms instead of babies. Does it change the validity of the outcome?\n",
    "4. Change the number of moms and babies, and a conditional statement (if statement) to account for this change.\n",
    "\n",
    "# Plot the results"
   ]
  },
  {
   "cell_type": "code",
   "execution_count": 19,
   "metadata": {},
   "outputs": [
    {
     "data": {
      "image/png": "[encoded data removed]",
      "text/plain": [
       "<matplotlib.figure.Figure at 0x111f8bcc0>"
      ]
     },
     "metadata": {},
     "output_type": "display_data"
    },
    {
     "name": "stdout",
     "output_type": "stream",
     "text": [
      "list a: [ 369.  342.  248.    0.   41.]\n",
      "list b: [0 1 2 3 4 5]\n"
     ]
    }
   ],
   "source": [
    "import matplotlib.pyplot as plt\n",
    "\n",
    "def baby_histogram(matches_list):\n",
    "    # the histogram of the data\n",
    "    #[a,b,c] = plt.hist(matches_list, 5)\n",
    "    [a,b,c] = plt.hist(matches_list, [0,1,2,3,4,5])\n",
    "\n",
    "    plt.xlabel('Number of Matches')\n",
    "    plt.ylabel('Frequency')\n",
    "    plt.title('Random Babies')\n",
    "\n",
    "    plt.show()\n",
    "    \n",
    "    return [a,b]\n",
    "    \n",
    "\n",
    "matches_list = simulate_babies(1000)\n",
    "[a,b]  = baby_histogram(matches_list)\n",
    "print(\"list a:\",a)\n",
    "print(\"list b:\",b)"
   ]
  },
  {
   "cell_type": "markdown",
   "metadata": {},
   "source": [
    "# Think - Pair - Share\n",
    "\n",
    "1. What are the meaning of the values in the list named **a**? Rename list a to indicate this meaning.\n",
    "2. What are the meaning of the values in the list named **b**? Are these values appropriate given the number of moms and babies you are simulating? Change these values if you are simulating more or fewer moms and babies.\n",
    "```\n",
    "[a,b,c] = plt.hist(matches_list, [0,1,2,3,4,5])\n",
    "```\n",
    "Rename list b to indicate this meaning.\n"
   ]
  },
  {
   "cell_type": "code",
   "execution_count": null,
   "metadata": {
    "collapsed": true
   },
   "outputs": [],
   "source": [
    ""
   ]
  }
 ],
 "metadata": {
  "kernelspec": {
   "display_name": "Python 3",
   "language": "python",
   "name": "python3"
  },
  "language_info": {
   "codemirror_mode": {
    "name": "ipython",
    "version": 3.0
   },
   "file_extension": ".py",
   "mimetype": "text/x-python",
   "name": "python",
   "nbconvert_exporter": "python",
   "pygments_lexer": "ipython3",
   "version": "3.6.3"
  }
 },
 "nbformat": 4,
 "nbformat_minor": 0
}