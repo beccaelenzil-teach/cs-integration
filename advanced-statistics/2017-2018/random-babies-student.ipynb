{
 "cells": [
  {
   "cell_type": "code",
   "execution_count": 2,
   "metadata": {},
   "outputs": [
    {
     "name": "stdout",
     "output_type": "stream",
     "text": [
      "[2, 0, 4, 0, 0, 2, 1, 0, 0, 0, 1, 0, 2, 1, 1, 2, 2, 1, 2, 0, 0, 0, 4, 2, 4, 2, 1, 0, 1, 2, 2, 2, 0, 1, 0, 0, 0, 0, 1, 1, 0, 1, 1, 2, 0, 1, 2, 0, 0, 0, 1, 0, 2, 2, 0, 1, 1, 1, 0, 0, 0, 2, 1, 2, 1, 0, 1, 0, 0, 1, 0, 1, 2, 2, 0, 2, 0, 0, 2, 0, 2, 2, 0, 0, 1, 0, 0, 0, 2, 1, 0, 0, 1, 1, 0, 1, 2, 0, 2, 1]\n"
     ]
    }
   ],
   "source": [
    "import random\n",
    "\n",
    "def simulate_babies(n):\n",
    "    \"\"\"\n",
    "    input: number of simulations n\n",
    "    return: \n",
    "    (1) a list where each entry is the number of matches each simulation, \n",
    "    (2) a list containing the number of total 0 matches, 1 matches .. 4 matches for all simulations \n",
    "    \"\"\"\n",
    "\n",
    "    mom = [1, 2, 3, 4]\n",
    "    baby = [1, 2, 3, 4]\n",
    "\n",
    "    matches = 0\n",
    "    matches_list = []\n",
    "    \n",
    "    for i in range(n):\n",
    "        \n",
    "        random.shuffle(baby)\n",
    "        \n",
    "        # determine number of matches\n",
    "        if baby[0] == mom[0]:\n",
    "            matches += 1 \n",
    "        if baby[1] == mom[1]:\n",
    "            matches += 1\n",
    "        if baby[2] == mom[2]:\n",
    "            matches += 1 \n",
    "        if baby[3] == mom[3]:\n",
    "            matches += 1\n",
    "            \n",
    "        matches_list.append(matches)\n",
    "        matches = 0\n",
    "        \n",
    "    return matches_list\n",
    "\n",
    "print(simulate_babies(100))"
   ]
  },
  {
   "cell_type": "markdown",
   "metadata": {},
   "source": []
  }
 ],
 "metadata": {
  "kernelspec": {
   "display_name": "Python 3",
   "language": "python",
   "name": "python3"
  },
  "language_info": {
   "codemirror_mode": {
    "name": "ipython",
    "version": 3.0
   },
   "file_extension": ".py",
   "mimetype": "text/x-python",
   "name": "python",
   "nbconvert_exporter": "python",
   "pygments_lexer": "ipython3",
   "version": "3.6.3"
  }
 },
 "nbformat": 4,
 "nbformat_minor": 0
}