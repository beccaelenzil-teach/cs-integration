{
 "cells": [
  {
   "cell_type": "markdown",
   "metadata": {},
   "source": [
    "**In math:**\n",
    "\n",
    "f(x) = 2x\n",
    "\n",
    "f(3) = 2(3) = 6\n",
    "f(-3) = 2(-3) = -6\n",
    "\n",
    "**In programming:**\n",
    "\n",
    "```python\n",
    "def f(x):\n",
    "    return 2*x\n",
    "\n",
    "y = f(3)\n",
    "print(y)\n",
    ">>> 6\n",
    "\n",
    "y = f(-3)\n",
    "print(y)\n",
    ">>> -6\n",
    "```\n",
    "\n",
    "|math|programming|\n",
    "|---|---||\n",
    "|input|argument|\n",
    "|x value|argument|\n",
    "|output|return value|\n",
    "|y value|return value|\n",
    "|y value|return value|\n",
    "|f(x)|def f(x):|\n"
   ]
  },
  {
   "cell_type": "code",
   "execution_count": null,
   "metadata": {
    "collapsed": true
   },
   "outputs": [],
   "source": [
    "# define function\n",
    "def f(x):\n",
    "    \"\"\"\n",
    "    input: real number\n",
    "    output: double the real number\n",
    "    \"\"\"\n",
    "    return 2*x\n",
    "\n",
    "# call function\n",
    "\n",
    "\n",
    "'''\n",
    "# define function\n",
    "def sum(a,b):\n",
    "    return a+b\n",
    "\n",
    "# call function\n",
    "#print sum(2,3)\n",
    "#print sum(-10,10)\n",
    "'''"
   ]
  },
  {
   "cell_type": "markdown",
   "metadata": {
    "collapsed": true
   },
   "source": [
    "Now you can write some functions in the code window below.\n",
    "- Define a function called *quadruple(x)* that takes an argument x and returns a 4 times x.\n",
    "- Define a function called *mult_inverse(x)* that takes an argument x and returns the multiplicative inverse of x.\n",
    "- Define a function called *sum_of_squares(x,y)* that takes two arguments x and y and returns the sum of squares x^2 + y^2. \n",
    "  Remember that the syntax for the power operation is **.\n",
    "- Finished? Create your own function!\n",
    "\n",
    "Remember to test all your functions, and make sure the output is what you expect. \n",
    "The code is started below. For all functions you need to write the return expression. \n",
    "For one of the functions you also need to write the function definition.\n",
    "For another one of the functions you also need to write the docstring -- the documentation that goes inbetween triple quotes."
   ]
  },
  {
   "cell_type": "code",
   "execution_count": 6,
   "metadata": {},
   "outputs": [
    {
     "ename": "TypeError",
     "evalue": "object of type 'int' has no len()",
     "output_type": "error",
     "traceback": [
      "\u001b[0;31m---------------------------------------------------------------------------\u001b[0m",
      "\u001b[0;31mTypeError\u001b[0m                                 Traceback (most recent call last)",
      "\u001b[0;32m<ipython-input-6-a59c2df0e7c2>\u001b[0m in \u001b[0;36m<module>\u001b[0;34m()\u001b[0m\n\u001b[1;32m     34\u001b[0m         \u001b[0mprint\u001b[0m\u001b[0;34m(\u001b[0m\u001b[0;34m'You cannot multiply'\u001b[0m\u001b[0;34m,\u001b[0m \u001b[0mmatrix1\u001b[0m\u001b[0;34m,\u001b[0m \u001b[0;34m'by'\u001b[0m\u001b[0;34m,\u001b[0m \u001b[0mmatrix2\u001b[0m\u001b[0;34m)\u001b[0m\u001b[0;34m\u001b[0m\u001b[0m\n\u001b[1;32m     35\u001b[0m \u001b[0;34m\u001b[0m\u001b[0m\n\u001b[0;32m---> 36\u001b[0;31m \u001b[0mmatrix_mult\u001b[0m\u001b[0;34m(\u001b[0m\u001b[0;34m[\u001b[0m\u001b[0;36m1\u001b[0m\u001b[0;34m,\u001b[0m\u001b[0;36m2\u001b[0m\u001b[0;34m,\u001b[0m\u001b[0;36m3\u001b[0m\u001b[0;34m]\u001b[0m\u001b[0;34m,\u001b[0m\u001b[0;34m[\u001b[0m\u001b[0;36m1\u001b[0m\u001b[0;34m,\u001b[0m\u001b[0;36m2\u001b[0m\u001b[0;34m,\u001b[0m\u001b[0;36m3\u001b[0m\u001b[0;34m]\u001b[0m\u001b[0;34m)\u001b[0m\u001b[0;34m\u001b[0m\u001b[0m\n\u001b[0m\u001b[1;32m     37\u001b[0m \u001b[0;34m\u001b[0m\u001b[0m\n\u001b[1;32m     38\u001b[0m \u001b[0;34m\u001b[0m\u001b[0m\n",
      "\u001b[0;32m<ipython-input-6-a59c2df0e7c2>\u001b[0m in \u001b[0;36mmatrix_mult\u001b[0;34m(matrix1, matrix2)\u001b[0m\n\u001b[1;32m     28\u001b[0m \u001b[0;32mdef\u001b[0m \u001b[0mmatrix_mult\u001b[0m\u001b[0;34m(\u001b[0m\u001b[0mmatrix1\u001b[0m\u001b[0;34m,\u001b[0m\u001b[0mmatrix2\u001b[0m\u001b[0;34m)\u001b[0m\u001b[0;34m:\u001b[0m\u001b[0;34m\u001b[0m\u001b[0m\n\u001b[1;32m     29\u001b[0m     \u001b[0mm1\u001b[0m \u001b[0;34m=\u001b[0m \u001b[0mlen\u001b[0m\u001b[0;34m(\u001b[0m\u001b[0mmatrix1\u001b[0m\u001b[0;34m)\u001b[0m\u001b[0;34m\u001b[0m\u001b[0m\n\u001b[0;32m---> 30\u001b[0;31m     \u001b[0mn1\u001b[0m \u001b[0;34m=\u001b[0m \u001b[0mlen\u001b[0m\u001b[0;34m(\u001b[0m\u001b[0mmatrix1\u001b[0m\u001b[0;34m[\u001b[0m\u001b[0;36m0\u001b[0m\u001b[0;34m]\u001b[0m\u001b[0;34m)\u001b[0m\u001b[0;34m\u001b[0m\u001b[0m\n\u001b[0m\u001b[1;32m     31\u001b[0m     \u001b[0mm2\u001b[0m \u001b[0;34m=\u001b[0m \u001b[0mlen\u001b[0m\u001b[0;34m(\u001b[0m\u001b[0mmatrix2\u001b[0m\u001b[0;34m)\u001b[0m\u001b[0;34m\u001b[0m\u001b[0m\n\u001b[1;32m     32\u001b[0m     \u001b[0mn2\u001b[0m \u001b[0;34m=\u001b[0m \u001b[0mlen\u001b[0m\u001b[0;34m(\u001b[0m\u001b[0mmatrix2\u001b[0m\u001b[0;34m[\u001b[0m\u001b[0;36m0\u001b[0m\u001b[0;34m]\u001b[0m\u001b[0;34m)\u001b[0m\u001b[0;34m\u001b[0m\u001b[0m\n",
      "\u001b[0;31mTypeError\u001b[0m: object of type 'int' has no len()"
     ]
    }
   ],
   "source": [
    "'''\n",
    "def quadruple(x):\n",
    "    \"\"\"\n",
    "    input: a real number x\n",
    "    output: 4x\n",
    "    \"\"\"\n",
    "    return\n",
    "    \n",
    "    \n",
    "def \n",
    "    \"\"\"\n",
    "    input: integer x\n",
    "    output: the multiplicative inverse of x\n",
    "    \"\"\"\n",
    "    \n",
    "def sum_of_squares(x,y):\n",
    "'''    \n",
    "def scalar_mult(c, matrix):\n",
    "    product = []\n",
    "    for m in matrix:\n",
    "        product.append(c*m)\n",
    "        \n",
    "    return product\n",
    "\n",
    "#product = matrix_mult(5,[1,2,3])\n",
    "#print(product)\n",
    "\n",
    "def matrix_mult(matrix1,matrix2):\n",
    "    m1 = len(matrix1)\n",
    "    n1 = len(matrix1[0])\n",
    "    m2 = len(matrix2)\n",
    "    n2 = len(matrix2[0])\n",
    "    if n1 != m2:\n",
    "        print('You cannot multiply', matrix1, 'by', matrix2)\n",
    "\n",
    "matrix_mult([1,2,3],[1,2,3])\n",
    "\n",
    "        \n",
    "        \n",
    "    "
   ]
  },
  {
   "cell_type": "code",
   "execution_count": null,
   "metadata": {
    "collapsed": true
   },
   "outputs": [],
   "source": []
  }
 ],
 "metadata": {
  "kernelspec": {
   "display_name": "Python 3",
   "language": "python",
   "name": "python3"
  },
  "language_info": {
   "codemirror_mode": {
    "name": "ipython",
    "version": 3
   },
   "file_extension": ".py",
   "mimetype": "text/x-python",
   "name": "python",
   "nbconvert_exporter": "python",
   "pygments_lexer": "ipython3",
   "version": "3.6.3"
  }
 },
 "nbformat": 4,
 "nbformat_minor": 2
}
