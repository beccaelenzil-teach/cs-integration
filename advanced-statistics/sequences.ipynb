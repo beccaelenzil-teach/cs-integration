{
 "cells": [
  {
   "cell_type": "markdown",
   "metadata": {},
   "source": [
    "The number of rabbits *r* in a population is given by the following recursive formula where n is the generation number.\n",
    "\n",
    "$$ \\begin{cases} \n",
    "      r_1 = 150 & n = 1 \\\\\n",
    "      0.008r_{n-1}(200-r_{n-1}) & n\\geq 2 \n",
    "   \\end{cases}\n",
    "$$\n",
    "\n",
    "The code below prints the number of rabbits in the first *n* generations. \n",
    "\n",
    "Run the code and then change (1) the number of generations *n* and (2) the initial number of rabbits. \n",
    "What do you notice?"
   ]
  },
  {
   "cell_type": "code",
   "execution_count": 8,
   "metadata": {},
   "outputs": [
    {
     "name": "stdout",
     "output_type": "stream",
     "text": [
      " \n",
      "[80, 77, 76, 75, 75, 75, 75, 75, 75, 75]\n"
     ]
    }
   ],
   "source": [
    "import time\n",
    "\n",
    "#initial number of rabbits\n",
    "rabbits = 100\n",
    "\n",
    "#an empty\n",
    "rabbit_list = []\n",
    "\n",
    "#the number of generations\n",
    "n = 10\n",
    "\n",
    "#generate the sequence\n",
    "for i in range(n):\n",
    "    #print(rabbits)\n",
    "    rabbits = 0.008*rabbits*(200-rabbits)\n",
    "    \n",
    "    #add the number of rabbits (rounded to a whole number) to a list for record keeping\n",
    "    rabbit_list.append(round(rabbits))\n",
    "    \n",
    "    #wait 0.1 seconds between each generation so you can see the number of rabbits being printed\n",
    "    time.sleep(0.1)\n",
    "    \n",
    "print(' ')\n",
    "# print the whole list of rabbits for n generations\n",
    "print(rabbit_list)\n",
    "    "
   ]
  },
  {
   "cell_type": "code",
   "execution_count": 9,
   "metadata": {},
   "outputs": [
    {
     "name": "stdout",
     "output_type": "stream",
     "text": [
      "term 1 : 2\n",
      "term 2 : 19\n",
      "term 3 : 36\n",
      "term 4 : 53\n",
      "term 5 : 70\n",
      "term 6 : 87\n",
      "term 7 : 104\n",
      "term 8 : 121\n",
      "term 9 : 138\n",
      "term 10 : 155\n",
      "term 11 : 172\n",
      "term 12 : 189\n",
      "term 13 : 206\n",
      "term 14 : 223\n",
      "term 15 : 240\n"
     ]
    }
   ],
   "source": [
    "import time\n",
    "\n",
    "\n",
    "def s(n):\n",
    "    seq = 2\n",
    "    for i in range(1,n+1):\n",
    "        print(\"term\",i,\":\",seq)\n",
    "        seq = seq+17\n",
    "        time.sleep(.5)\n",
    "        \n",
    "s(15)\n",
    "        "
   ]
  },
  {
   "cell_type": "code",
   "execution_count": null,
   "metadata": {
    "collapsed": true
   },
   "outputs": [],
   "source": []
  }
 ],
 "metadata": {
  "kernelspec": {
   "display_name": "Python 3",
   "language": "python",
   "name": "python3"
  },
  "language_info": {
   "codemirror_mode": {
    "name": "ipython",
    "version": 3
   },
   "file_extension": ".py",
   "mimetype": "text/x-python",
   "name": "python",
   "nbconvert_exporter": "python",
   "pygments_lexer": "ipython3",
   "version": "3.6.3"
  }
 },
 "nbformat": 4,
 "nbformat_minor": 2
}
