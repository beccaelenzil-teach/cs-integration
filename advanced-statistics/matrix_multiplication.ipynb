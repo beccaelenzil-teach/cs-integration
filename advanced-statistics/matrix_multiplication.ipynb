{
 "cells": [
  {
   "cell_type": "markdown",
   "metadata": {},
   "source": [
    "# Matrix Multiplication\n",
    "\n",
    "The code below uses the **matmul** *method* of the **numpy** *library* to multiple two matrices. :\n",
    "\n",
    "The code:\n",
    "```python\n",
    "A = [[1,2,3],[4,5,6],[7,8,9]]\n",
    "```\n",
    "represents the matrix:\n",
    "\n",
    "\\begin{bmatrix}\n",
    "1 & 2 & 3 \\\\\n",
    "4 & 5 & 6 \\\\\n",
    "7 & 8 & 9\n",
    "\\end{bmatrix}\n",
    "\n",
    "\n",
    "\n",
    "The code:\n",
    "```python\n",
    "B = [[1,2],[3,4],[5,6]]\n",
    "```\n",
    "represents the matrix:\n",
    "\n",
    "\\begin{bmatrix}\n",
    "1 & 2 \\\\\n",
    "3 & 4 \\\\\n",
    "5 & 6\n",
    "\\end{bmatrix}\n",
    "\n",
    "Now run the code cell below by pushing the play button."
   ]
  },
  {
   "cell_type": "code",
   "execution_count": 1,
   "metadata": {},
   "outputs": [
    {
     "name": "stdout",
     "output_type": "stream",
     "text": [
      "[[ 22  28]\n",
      " [ 49  64]\n",
      " [ 76 100]]\n"
     ]
    }
   ],
   "source": [
    "import numpy\n",
    "\n",
    "A = [[0,1],[1,0]]\n",
    "B = [[1,2],[3,4],[5,6]]\n",
    "\n",
    "C = numpy.matmul(A,B)\n",
    "print(C)"
   ]
  },
  {
   "cell_type": "code",
   "execution_count": null,
   "metadata": {
    "collapsed": true
   },
   "outputs": [],
   "source": []
  }
 ],
 "metadata": {
  "kernelspec": {
   "display_name": "Python 3",
   "language": "python",
   "name": "python3"
  },
  "language_info": {
   "codemirror_mode": {
    "name": "ipython",
    "version": 3
   },
   "file_extension": ".py",
   "mimetype": "text/x-python",
   "name": "python",
   "nbconvert_exporter": "python",
   "pygments_lexer": "ipython3",
   "version": "3.6.3"
  }
 },
 "nbformat": 4,
 "nbformat_minor": 2
}
