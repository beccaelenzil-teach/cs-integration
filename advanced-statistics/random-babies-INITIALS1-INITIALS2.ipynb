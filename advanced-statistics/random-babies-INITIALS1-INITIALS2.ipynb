{
 "cells": [
  {
   "cell_type": "markdown",
   "metadata": {
    "collapsed": true
   },
   "source": [
    "# Think - Pair - Share\n",
    "\n",
    "1. In your own words, what is the code above doing?\n",
    "2. How would you change the code above to shuffle the baby list 20 times?\n",
    "3. How would you change the code above to include 5 babies in the simulation?\n",
    "4. How would you change the amount of time it pauses between printing each shuffle?\n",
    "\n",
    "Add a markdown cell using the + button and the answers to these questions in that cell."
   ]
  },
  {
   "cell_type": "markdown",
   "metadata": {},
   "source": [
    "1. In my own words, this code is..."
   ]
  },
  {
   "cell_type": "markdown",
   "metadata": {},
   "source": [
    "# Think - Pair - Share\n",
    "\n",
    "1. How would you change the function call to run the simulation 1000 times, 10,000 times, etc.?\n",
    "2. Why don't we shuffle the mom list?\n",
    "3. Change the program to shuffle moms instead of babies. Does it change the validity of the outcome?\n",
    "4. Change the number of moms and babies, and a conditional statement (if statement) to account for this change.\n",
    "\n",
    "Add a markdown cell using the + button and the answers to these questions in that cell."
   ]
  },
  {
   "cell_type": "markdown",
   "metadata": {},
   "source": [
    "# Think - Pair - Share\n",
    "\n",
    "1 . What are the meaning of the values in the list named a? Rename list a to indicate this meaning.\n",
    "2. What are the meaning of the values in the list named b? Are these values appropriate given the number of moms and babies you are simulating? Change these values if you are simulating more or fewer moms and babies.\n",
    "\n",
    "    [a,b,c] = plt.hist(matches_list, [0,1,2,3,4,5])\n",
    "\n",
    "    Rename list b to indicate this meaning.\n",
    "\n",
    "\n",
    "\n",
    "Add a markdown cell using the + button and the answers to these questions in that cell."
   ]
  },
  {
   "cell_type": "markdown",
   "metadata": {},
   "source": [
    "Put all the code together in one cell below and run."
   ]
  },
  {
   "cell_type": "code",
   "execution_count": 1,
   "metadata": {
    "collapsed": true
   },
   "outputs": [],
   "source": [
    "# import libraries\n",
    "\n",
    "# simulation function\n",
    "\n",
    "# histogram function\n",
    "\n",
    "# function calls"
   ]
  }
 ],
 "metadata": {
  "kernelspec": {
   "display_name": "Python 3",
   "language": "python",
   "name": "python3"
  },
  "language_info": {
   "codemirror_mode": {
    "name": "ipython",
    "version": 3
   },
   "file_extension": ".py",
   "mimetype": "text/x-python",
   "name": "python",
   "nbconvert_exporter": "python",
   "pygments_lexer": "ipython3",
   "version": "3.6.3"
  }
 },
 "nbformat": 4,
 "nbformat_minor": 2
}
