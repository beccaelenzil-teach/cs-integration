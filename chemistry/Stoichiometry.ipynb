{
 "cells": [
  {
   "cell_type": "markdown",
   "metadata": {},
   "source": [
    "Stoichiometry\n",
    "=======================\n",
    "\n",
    "* **def**. the relationship between the relative quantities of substances taking part in a reaction or forming a compound, typically a ratio of whole integers.*\n",
    "\n",
    "---\n",
    "\n",
    "In chemistry class you have learned how to determine to determine the required mass of one reactant given the mass of another reactant in a chemical equation.\n",
    "\n",
    "Together we will use this knowledge to write a computer program that performs this computation.\n",
    "\n",
    "---\n",
    "\n",
    "## First up, functions!\n",
    "\n",
    "\n",
    "**Functions**\n",
    "\n",
    "           --------\n",
    "input --> |function| --> output\n",
    "           --------\n",
    "\n",
    "**In Math:**\n",
    "\n",
    "f(x) = 2x\n",
    "\n",
    "f(3) = 2*3 = 6\n",
    "\n",
    "**In Computer Science**\n",
    "\n",
    "function definition:\n",
    "```python\n",
    "def f(x):\n",
    "    return 2*x\n",
    "```\n",
    "\n",
    "function call:\n",
    "```python\n",
    "y = f(3)\n",
    "print(\"f(3) = \", y)\n",
    "```\n",
    "\n",
    "and you will see 6   *(2*3)*\n",
    "\n",
    "- input AKA argument: x\n",
    "- output AKA return value: 2x\n",
    "- *def:* defining a function named f\n"
   ]
  },
  {
   "cell_type": "code",
   "execution_count": null,
   "metadata": {
    "collapsed": true
   },
   "outputs": [],
   "source": [
    "# define function\n",
    "def f(x):\n",
    "    return 2*x\n",
    "\n",
    "# call function\n",
    "# y = f(10)\n",
    "# print(\"f(10) = \", y)\n",
    "# y = f(-1)\n",
    "# print(f(-1) = \", y)\n",
    "\n",
    "'''\n",
    "# define function\n",
    "def sum(a,b):\n",
    "    return a+b\n",
    "\n",
    "# call function\n",
    "#print(sum(2,3))\n",
    "#print(sum(-10,10))\n",
    "'''"
   ]
  },
  {
   "cell_type": "markdown",
   "metadata": {},
   "source": [
    "**Now you will write three functions described below:**"
   ]
  },
  {
   "cell_type": "code",
   "execution_count": null,
   "metadata": {
    "collapsed": true
   },
   "outputs": [],
   "source": [
    "# 1. Define a function called quadruple that takes \n",
    "# an argument x and returns a 4 times x.\n",
    "def quadruple(x):\n",
    "\n",
    "# 2. Define a function called mult_inverse that takes an \n",
    "# argument x and returns the multiplicative inverse of x.\n",
    "\n",
    "# 3. Define a function called sum_of_squares that takes \n",
    "# two arguments x and y and returns the sum of squares x^2 + y^2. \n",
    "# Remember that the syntax for the power operation is ** (not ^)"
   ]
  },
  {
   "cell_type": "markdown",
   "metadata": {},
   "source": [
    "The above functions take one or more *arguments*. You can also write functions that take no arguments. Rather than pass in an argument, you can ask your user for an input using the ```input()``` function.\n",
    "\n",
    "```python\n",
    "def get_an_integer():\n",
    "    integer = input(\"Enter any integer you'd like: \")\n",
    "    return integer\n",
    "```\n",
    "To call the function *get_an_integer()* you need to use parentheses *().* This indicates a function call.  \n",
    "\n",
    "```python\n",
    "integer = get_an_integer():\n",
    "print(\"The integer you chose is: \", integer)\n",
    "```\n"
   ]
  },
  {
   "cell_type": "code",
   "execution_count": 4,
   "metadata": {},
   "outputs": [
    {
     "name": "stdout",
     "output_type": "stream",
     "text": [
      "Enter any integer you'd like: -2\n",
      "The integer you chose is:  -2\n"
     ]
    }
   ],
   "source": [
    "def get_an_integer():\n",
    "    integer = input(\"Enter any integer you'd like: \")\n",
    "    return integer\n",
    "\n",
    "integer = get_an_integer()\n",
    "print(\"The integer you chose is: \", integer)"
   ]
  },
  {
   "cell_type": "markdown",
   "metadata": {},
   "source": [
    "You can also combine inputs with an argument and inputs from the **input()** function. Furthermore, your function does not have to return a value. It can simply do something like print a statement."
   ]
  },
  {
   "cell_type": "code",
   "execution_count": 7,
   "metadata": {},
   "outputs": [],
   "source": [
    "def whats_your_name(n):\n",
    "    name = input(\"What's your name? \")\n",
    "    for i in range(n):\n",
    "        print(\"Nice to meet you, \", name)\n",
    "\n",
    "#whats_your_name(3)"
   ]
  },
  {
   "cell_type": "markdown",
   "metadata": {},
   "source": [
    "## Back to Stoichiometry...\n",
    "\n",
    "Let's write a function that calculates the atomic mass of a given molecule. Our function will take the name of the molecule as the **argument**. All other information needed will be entered using the **input()** function.\n",
    "\n",
    "- With a partner, describe the steps needs to determine the mass of an arbitrary molecule.\n",
    "\n",
    "- Use these steps to calculate the mass of molecules written on the board."
   ]
  },
  {
   "cell_type": "code",
   "execution_count": 8,
   "metadata": {},
   "outputs": [
    {
     "name": "stdout",
     "output_type": "stream",
     "text": [
      "What is the name of the molecule with given mass? h2\n",
      "What is the name of the molecule with desired mass? 2\n",
      "Let's calculalate the molar mass of h2\n",
      "How many elements are there in the molecule? 2\n",
      "What is the atomic mass of element are in this molecule? 2\n",
      "How many atoms of element are in this molecule? 2\n",
      "What is the atomic mass of element are in this molecule? 2\n",
      "How many atoms of element are in this molecule? 2\n",
      "The molar mass of h2 is 8.0\n",
      "Now we will calculate the moles of h2\n",
      "How many grams of this molecule are given?2\n",
      "There are 0.25 moles of h2\n",
      "Now we will calculate the moles of 2\n",
      "What is the coefficient of the desired molecule?2\n",
      "What is the coefficient of the given molecule?2\n",
      "The moles of the desired molecule are 0.25\n",
      "Let's calculalate the molar mass of 2\n",
      "How many elements are there in the molecule? 2\n",
      "What is the atomic mass of element are in this molecule? 2\n",
      "How many atoms of element are in this molecule? 2\n",
      "What is the atomic mass of element are in this molecule? 2\n",
      "How many atoms of element are in this molecule? 2\n",
      "The molar mass of 2 is 8.0\n",
      "The mass needed of2 is 2.0\n"
     ]
    }
   ],
   "source": [
    "import time\n",
    "\n",
    "def element_molar_mass(name):\n",
    "    molar_masses = []\n",
    "    question = \"How many elements are there in the molecule? \"\n",
    "    n = int(input(question))\n",
    "    for i in range(n):\n",
    "        atomic_mass = float(input(\"What is the atomic mass of element are in this molecule? \"))\n",
    "        num_atoms = float(input(\"How many atoms of element are in this molecule? \"))\n",
    "        molar_mass = atomic_mass*num_atoms\n",
    "        molar_masses.append(molar_mass)\n",
    "    molecule_atomic_mass = sum(molar_masses)\n",
    "    return molecule_atomic_mass\n",
    "    \n",
    "# Get the given information\n",
    "name_given = input(\"What is the name of the molecule with given mass? \")\n",
    "name_desired = input(\"What is the name of the molecule with desired mass? \")\n",
    "    \n",
    "# Molar Mass given\n",
    "print(\"Let's calculalate the molar mass of \" + name_given)\n",
    "molecule_given_molar_mass = element_molar_mass(name_given) \n",
    "print(\"The molar mass of \" + name_given + \" is \" +str(molecule_given_molar_mass))\n",
    "    \n",
    "# Step 1\n",
    "print(\"Now we will calculate the moles of \"+name_given)\n",
    "mass_given = float(input(\"How many grams of this molecule are given?\"))\n",
    "moles_given = mass_given / molecule_given_molar_mass\n",
    "print(\"There are \"+ str(moles_given) + \" moles of \"+ name_given)\n",
    "    \n",
    "# Step 2\n",
    "print(\"Now we will calculate the moles of \"+name_desired)\n",
    "coeff_desired = int(input(\"What is the coefficient of the desired molecule?\"))\n",
    "coeff_given = int(input(\"What is the coefficient of the given molecule?\"))\n",
    "ratio = coeff_desired/coeff_given\n",
    "moles_desired = ratio*moles_given\n",
    "print(\"The moles of the desired molecule are \"+str(moles_desired))\n",
    "    \n",
    "    \n",
    "# Molar mass desired\n",
    "print(\"Let's calculalate the molar mass of \" + name_desired)\n",
    "molecule_desired_molar_mass= element_molar_mass(name_desired)\n",
    "print(\"The molar mass of \" + name_desired + \" is \" +str(molecule_desired_molar_mass))\n",
    "    \n",
    "# Step 3\n",
    "mass_desired = moles_desired * molecule_desired_molar_mass\n",
    "    \n",
    "time.sleep(1)\n",
    "\n",
    "print(\"The mass needed of\"+name_desired+\" is \"+str(mass_desired))\n",
    "    \n",
    "    \n",
    "\n",
    "\n",
    "\n",
    "\n",
    "\n",
    "\n",
    "\n",
    "\n",
    "\n"
   ]
  },
  {
   "cell_type": "markdown",
   "metadata": {},
   "source": []
  },
  {
   "cell_type": "code",
   "execution_count": 9,
   "metadata": {},
   "outputs": [
    {
     "ename": "ModuleNotFoundError",
     "evalue": "No module named 'plotly'",
     "output_type": "error",
     "traceback": [
      "\u001b[0;31m---------------------------------------------------------------------------\u001b[0m",
      "\u001b[0;31mModuleNotFoundError\u001b[0m                       Traceback (most recent call last)",
      "\u001b[0;32m<ipython-input-9-c27a4132ad2e>\u001b[0m in \u001b[0;36m<module>\u001b[0;34m()\u001b[0m\n\u001b[0;32m----> 1\u001b[0;31m \u001b[0;32mimport\u001b[0m \u001b[0mplotly\u001b[0m\u001b[0;34m\u001b[0m\u001b[0m\n\u001b[0m",
      "\u001b[0;31mModuleNotFoundError\u001b[0m: No module named 'plotly'"
     ]
    }
   ],
   "source": [
    "import plotly"
   ]
  },
  {
   "cell_type": "code",
   "execution_count": null,
   "metadata": {
    "collapsed": true
   },
   "outputs": [],
   "source": []
  }
 ],
 "metadata": {
  "kernelspec": {
   "display_name": "Python 3",
   "language": "python",
   "name": "python3"
  },
  "language_info": {
   "codemirror_mode": {
    "name": "ipython",
    "version": 3
   },
   "file_extension": ".py",
   "mimetype": "text/x-python",
   "name": "python",
   "nbconvert_exporter": "python",
   "pygments_lexer": "ipython3",
   "version": "3.6.3"
  }
 },
 "nbformat": 4,
 "nbformat_minor": 2
}
