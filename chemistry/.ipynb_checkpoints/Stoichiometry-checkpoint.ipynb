{
 "cells": [
  {
   "cell_type": "markdown",
   "metadata": {},
   "source": [
    "Stoichiometry\n",
    "======================="
   ]
  },
  {
   "cell_type": "code",
   "execution_count": 9,
   "metadata": {},
   "outputs": [
    {
     "ename": "SyntaxError",
     "evalue": "unexpected EOF while parsing (<ipython-input-9-c93b399a7825>, line 51)",
     "output_type": "error",
     "traceback": [
      "\u001b[0;36m  File \u001b[0;32m\"<ipython-input-9-c93b399a7825>\"\u001b[0;36m, line \u001b[0;32m51\u001b[0m\n\u001b[0;31m    \u001b[0m\n\u001b[0m    ^\u001b[0m\n\u001b[0;31mSyntaxError\u001b[0m\u001b[0;31m:\u001b[0m unexpected EOF while parsing\n"
     ]
    }
   ],
   "source": [
    "import time\n",
    "\n",
    "def element_molar_mass(name):\n",
    "    molar_masses = []\n",
    "    question = \"How many elements are there in the molecule? \"\n",
    "    n = int(input(question))\n",
    "    for i in range(n):\n",
    "        atomic_mass = float(input(\"What is the atomic mass of element are in this molecule? \"))\n",
    "        num_atoms = float(input(\"How many atoms of element are in this molecule? \"))\n",
    "        molar_mass = atomic_mass*num_atoms\n",
    "        molar_masses.append(molar_mass)\n",
    "    molecule_atomic_mass = sum(molar_masses)\n",
    "    return molecule_atomic_mass\n",
    "    \n",
    "# Get the given information\n",
    "name_given = input(\"What is the name of the molecule with given mass? \")\n",
    "name_desired = input(\"What is the name of the molecule with desired mass? \")\n",
    "    \n",
    "# Molar Mass given\n",
    "print(\"Let's calculalate the molar mass of \" + name_given)\n",
    "molecule_given_molar_mass = element_molar_mass(name_given) \n",
    "print(\"The molar mass of \" + name_given + \" is \" +str(molecule_given_molar_mass))\n",
    "    \n",
    "# Step 1\n",
    "print(\"Now we will calculate the moles of \"+name_given)\n",
    "mass_given = float(input(\"How many grams of this molecule are given?\"))\n",
    "moles_given = mass_given / molecule_given_molar_mass\n",
    "print(\"There are \"+ str(moles_given) + \" moles of \"+ name_given)\n",
    "    \n",
    "# Step 2\n",
    "print(\"Now we will calculate the moles of \"+name_desired)\n",
    "coeff_desired = int(input(\"What is the coefficient of the desired molecule?\"))\n",
    "coeff_given = int(input(\"What is the coefficient of the given molecule?\"))\n",
    "ratio = coeff_desired/coeff_given\n",
    "moles_desired = ratio*moles_given\n",
    "print(\"The moles of the desired molecule are \"+str(moles_desired))\n",
    "    \n",
    "    \n",
    "# Molar mass desired\n",
    "print(\"Let's calculalate the molar mass of \" + name_desired)\n",
    "molecule_desired_molar_mass= element_molar_mass(name_desired)\n",
    "print(\"The molar mass of \" + name_desired + \" is \" +str(molecule_desired_molar_mass))\n",
    "    \n",
    "# Step 3\n",
    "mass_desired = moles_desired * molecule_desired_molar_mass\n",
    "    \n",
    "time.sleep(1)\n",
    "\n",
    "print(\"The mass needed of\"+name_desired+\" is \"+str(mass_desired))\n",
    "    \n",
    "    \n",
    "\n",
    "\n",
    "\n",
    "\n",
    "\n",
    "\n",
    "\n",
    "\n",
    "\n"
   ]
  },
  {
   "cell_type": "code",
   "execution_count": null,
   "metadata": {
    "collapsed": true
   },
   "outputs": [],
   "source": []
  }
 ],
 "metadata": {
  "kernelspec": {
   "display_name": "Python 3",
   "language": "python",
   "name": "python3"
  },
  "language_info": {
   "codemirror_mode": {
    "name": "ipython",
    "version": 3
   },
   "file_extension": ".py",
   "mimetype": "text/x-python",
   "name": "python",
   "nbconvert_exporter": "python",
   "pygments_lexer": "ipython3",
   "version": "3.6.3"
  }
 },
 "nbformat": 4,
 "nbformat_minor": 2
}
