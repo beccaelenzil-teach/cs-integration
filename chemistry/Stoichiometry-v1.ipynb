{
 "cells": [
  {
   "cell_type": "code",
   "execution_count": 11,
   "metadata": {},
   "outputs": [
    {
     "ename": "SyntaxError",
     "evalue": "invalid syntax (<ipython-input-11-0176024229f3>, line 6)",
     "output_type": "error",
     "traceback": [
      "\u001b[0;36m  File \u001b[0;32m\"<ipython-input-11-0176024229f3>\"\u001b[0;36m, line \u001b[0;32m6\u001b[0m\n\u001b[0;31m    for i in num_elements\u001b[0m\n\u001b[0m                         ^\u001b[0m\n\u001b[0;31mSyntaxError\u001b[0m\u001b[0;31m:\u001b[0m invalid syntax\n"
     ]
    }
   ],
   "source": [
    "def stoichiometry():\n",
    "    reactant1 = input('What is the reactant with a known mass? ')\n",
    "    reactant1_mass =  input('What is the know mass of '+reactant1+'? ')\n",
    "    num_elements = input('How many elements are in the reactant? ')\n",
    "    am_list = []\n",
    "    for i in range(num_elements):\n",
    "        am = input('What is the atomic mass of the first element in the reactant? ')\n",
    "        am_list.append(am)\n",
    "        \n",
    "    \n",
    "    \n",
    "    \n",
    "stoichiometry()"
   ]
  },
  {
   "cell_type": "code",
   "execution_count": null,
   "metadata": {
    "collapsed": true
   },
   "outputs": [],
   "source": []
  }
 ],
 "metadata": {
  "kernelspec": {
   "display_name": "Python 3",
   "language": "python",
   "name": "python3"
  },
  "language_info": {
   "codemirror_mode": {
    "name": "ipython",
    "version": 3
   },
   "file_extension": ".py",
   "mimetype": "text/x-python",
   "name": "python",
   "nbconvert_exporter": "python",
   "pygments_lexer": "ipython3",
   "version": "3.6.3"
  }
 },
 "nbformat": 4,
 "nbformat_minor": 2
}
