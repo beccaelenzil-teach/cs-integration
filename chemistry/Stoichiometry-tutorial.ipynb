{
 "cells": [
  {
   "cell_type": "markdown",
   "metadata": {},
   "source": [
    "Stoichiometry\n",
    "=======================\n",
    "\n",
    "* **def**. the relationship between the relative quantities of substances taking part in a reaction or forming a compound, typically a ratio of whole integers.*\n",
    "\n",
    "---\n",
    "\n",
    "In chemistry class you have learned how to determine to determine the required mass of one reactant given the mass of another reactant in a chemical equation.\n",
    "\n",
    "Together we will use this knowledge to write a computer program that performs this computation.\n",
    "\n",
    "---\n",
    "\n",
    "## First up, functions!\n",
    "\n",
    "\n",
    "**Functions**\n",
    "\n",
    "           --------\n",
    "input --> |function| --> output\n",
    "           --------\n",
    "\n",
    "**In Math:**\n",
    "\n",
    "f(x) = 2x\n",
    "\n",
    "f(3) = 2*3 = 6\n",
    "\n",
    "**In Computer Science**\n",
    "\n",
    "function definition:\n",
    "```python\n",
    "def f(x):\n",
    "    return 2*x\n",
    "```\n",
    "\n",
    "function call:\n",
    "```python\n",
    "y = f(3)\n",
    "print(\"f(3) = \", y)\n",
    "```\n",
    "\n",
    "and you will see 6   *(2*3)*\n",
    "\n",
    "- input AKA argument: x\n",
    "- output AKA return value: 2x\n",
    "- *def:* defining a function named f\n"
   ]
  },
  {
   "cell_type": "code",
   "execution_count": null,
   "metadata": {
    "collapsed": true
   },
   "outputs": [],
   "source": [
    "# define function\n",
    "def f(x):\n",
    "    return 2*x\n",
    "\n",
    "# call function\n",
    "# y = f(10)\n",
    "# print(\"f(10) = \", y)\n",
    "# y = f(-1)\n",
    "# print(f(-1) = \", y)\n",
    "\n",
    "'''\n",
    "# define function\n",
    "def sum(a,b):\n",
    "    return a+b\n",
    "\n",
    "# call function\n",
    "#print(sum(2,3))\n",
    "#print(sum(-10,10))\n",
    "'''"
   ]
  },
  {
   "cell_type": "markdown",
   "metadata": {},
   "source": [
    "**Now you will write three functions described below:**"
   ]
  },
  {
   "cell_type": "code",
   "execution_count": null,
   "metadata": {
    "collapsed": true
   },
   "outputs": [],
   "source": [
    "# 1. Define a function called quadruple that takes \n",
    "# an argument x and returns a 4 times x.\n",
    "def quadruple(x):\n",
    "\n",
    "# 2. Define a function called mult_inverse that takes an \n",
    "# argument x and returns the multiplicative inverse of x.\n",
    "\n",
    "# 3. Define a function called sum_of_squares that takes \n",
    "# two arguments x and y and returns the sum of squares x^2 + y^2. \n",
    "# Remember that the syntax for the power operation is ** (not ^)"
   ]
  },
  {
   "cell_type": "markdown",
   "metadata": {},
   "source": [
    "The above functions take one or more *arguments*. You can also write functions that take no arguments. Rather than pass in an argument, you can ask your user for an input using the ```input()``` function.\n",
    "\n",
    "```python\n",
    "def get_an_integer():\n",
    "    integer = input(\"Enter any integer you'd like: \")\n",
    "    return integer\n",
    "```\n",
    "To call the function *get_an_integer()* you need to use parentheses *().* This indicates a function call.  \n",
    "\n",
    "```python\n",
    "integer = get_an_integer():\n",
    "print(\"The integer you chose is: \", integer)\n",
    "```\n"
   ]
  },
  {
   "cell_type": "code",
   "execution_count": 1,
   "metadata": {},
   "outputs": [
    {
     "name": "stdout",
     "output_type": "stream",
     "text": [
      "Enter any integer you'd like: 5\n",
      "The integer you chose is:  5\n"
     ]
    }
   ],
   "source": [
    "def get_an_integer():\n",
    "    integer = input(\"Enter any integer you'd like: \")\n",
    "    return integer\n",
    "\n",
    "integer = get_an_integer()\n",
    "print(\"The integer you chose is: \", integer)"
   ]
  },
  {
   "cell_type": "markdown",
   "metadata": {},
   "source": [
    "You can also combine inputs with an argument and inputs from the **input()** function. Furthermore, your function does not have to return a value. It can simply do something like print a statement."
   ]
  },
  {
   "cell_type": "code",
   "execution_count": 2,
   "metadata": {},
   "outputs": [
    {
     "name": "stdout",
     "output_type": "stream",
     "text": [
      "What's your name? becca\n",
      "Nice to meet you,  becca\n",
      "Nice to meet you,  becca\n",
      "Nice to meet you,  becca\n"
     ]
    }
   ],
   "source": [
    "def whats_your_name(n):\n",
    "    name = input(\"What's your name? \")\n",
    "    for i in range(n):\n",
    "        print(\"Nice to meet you, \", name)\n",
    "\n",
    "whats_your_name(3)"
   ]
  },
  {
   "cell_type": "markdown",
   "metadata": {},
   "source": [
    "## Back to Stoichiometry...\n",
    "\n",
    "Let's write a function that calculates the atomic mass of a given molecule. Our function will take the name of the molecule as the **argument**. All other information needed will be entered using the **input()** function.\n",
    "\n",
    "- With a partner, describe the steps needs to determine the mass of an arbitrary molecule.\n",
    "\n",
    "- Use these steps to calculate the mass of molecules written on the board."
   ]
  },
  {
   "cell_type": "code",
   "execution_count": 1,
   "metadata": {},
   "outputs": [
    {
     "name": "stdout",
     "output_type": "stream",
     "text": [
      "What is the name of the molecule with known mass? H2\n",
      "What is the name of the molecule with desired mass? H20\n",
      "Let's calculate the molar mass of H2\n",
      "How many elements are there in H2? 1\n",
      "What is the atomic mass of element 1 in H2? 1.08\n",
      "How many atoms of element 1 are in H2? 2\n",
      "The molar mass of H2 is 2.16\n",
      "Now we will calculate the moles of H2\n",
      "How many grams of H2 are given? 5\n",
      "There are 2.314814814814815 moles of H2\n",
      "Now we will calculate the moles of H20\n",
      "What is the coefficient of H20 ?1\n",
      "What is the coefficient of H2 ?1\n",
      "The moles of the desired molecule are 2.314814814814815\n",
      "Let's calculate the molar mass of H20\n",
      "How many elements are there in H20? 2\n",
      "What is the atomic mass of element 1 in H20? 1.08\n",
      "How many atoms of element 1 are in H20? 2\n",
      "What is the atomic mass of element 2 in H20? 16\n",
      "How many atoms of element 2 are in H20? 1\n",
      "The molar mass of H20 is 18.16\n",
      "The mass needed of H20 is 42.03703703703704\n"
     ]
    }
   ],
   "source": [
    "import time\n",
    "\n",
    "# Calculate A Molecule's Molar Mass \n",
    "def calculate_molar_mass(name):\n",
    "    molar_masses = []\n",
    "    print(\"Let's calculate the molar mass of \" + name)\n",
    "    question = \"How many elements are there in \" + name + \"? \"\n",
    "    n = int(input(question))\n",
    "\n",
    "    # find the portion of the molar mass that each element contributes\n",
    "    for i in range(n):\n",
    "        question = \"What is the atomic mass of element \"+str(i+1)+\" in \" + name + \"? \"\n",
    "        atomic_mass = float(input(question))\n",
    "        question = \"How many atoms of element \"+str(i+1)+\" are in \" + name + \"? \"\n",
    "        num_atoms = float(input(question))\n",
    "        molar_mass = atomic_mass*num_atoms\n",
    "        molar_masses.append(molar_mass)\n",
    "\n",
    "    molecule_molar_mass = sum(molar_masses)\n",
    "    return molecule_molar_mass\n",
    "    \n",
    "    \n",
    "# Get the names of the molecules\n",
    "name_given = input(\"What is the name of the molecule with known mass? \")\n",
    "name_desired = input(\"What is the name of the molecule with desired mass? \")\n",
    "    \n",
    "# Molar Mass given\n",
    "molecule_given_molar_mass = calculate_molar_mass(name_given) \n",
    "print(\"The molar mass of \" + name_given + \" is \" +str(molecule_given_molar_mass))\n",
    "    \n",
    "# Step 1 - Moles of given molecule\n",
    "print(\"Now we will calculate the moles of \"+name_given)\n",
    "question = \"How many grams of \"+name_given+\" are given? \"\n",
    "mass_given = float(input(question))\n",
    "moles_given = mass_given / molecule_given_molar_mass\n",
    "print(\"There are \"+ str(moles_given) + \" moles of \"+ name_given)\n",
    "    \n",
    "# Step 2 - Moles of desired molecule\n",
    "print(\"Now we will calculate the moles of \"+name_desired)\n",
    "question = \"What is the coefficient of \" +name_desired+\" ?\"\n",
    "coeff_desired = int(input(question))\n",
    "question = \"What is the coefficient of \" +name_given+\" ?\"\n",
    "coeff_given = int(input(question))\n",
    "ratio = coeff_desired/coeff_given\n",
    "moles_desired = ratio*moles_given\n",
    "print(\"The moles of the desired molecule are \"+str(moles_desired))\n",
    "    \n",
    "# Molar mass desired\n",
    "molecule_desired_molar_mass= calculate_molar_mass(name_desired)\n",
    "print(\"The molar mass of \" + name_desired + \" is \" +str(molecule_desired_molar_mass))\n",
    "    \n",
    "# Step 3\n",
    "mass_desired = moles_desired * molecule_desired_molar_mass\n",
    "    \n",
    "time.sleep(1)\n",
    "\n",
    "print(\"The mass needed of \"+name_desired+\" is \"+str(mass_desired))\n",
    "    \n",
    "    \n",
    "\n",
    "\n",
    "\n",
    "\n",
    "\n",
    "\n",
    "\n",
    "\n",
    "\n"
   ]
  },
  {
   "cell_type": "code",
   "execution_count": null,
   "metadata": {
    "collapsed": true
   },
   "outputs": [],
   "source": []
  }
 ],
 "metadata": {
  "kernelspec": {
   "display_name": "Python 3",
   "language": "python",
   "name": "python3"
  },
  "language_info": {
   "codemirror_mode": {
    "name": "ipython",
    "version": 3
   },
   "file_extension": ".py",
   "mimetype": "text/x-python",
   "name": "python",
   "nbconvert_exporter": "python",
   "pygments_lexer": "ipython3",
   "version": "3.6.3"
  }
 },
 "nbformat": 4,
 "nbformat_minor": 2
}
