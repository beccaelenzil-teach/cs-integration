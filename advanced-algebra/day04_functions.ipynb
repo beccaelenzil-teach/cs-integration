{
  "nbformat": 4,
  "nbformat_minor": 0,
  "metadata": {
    "colab": {
      "name": "day04-functions.ipynb",
      "version": "0.3.2",
      "provenance": [],
      "collapsed_sections": [],
      "include_colab_link": true
    },
    "kernelspec": {
      "name": "python3",
      "display_name": "Python 3"
    }
  },
  "cells": [
    {
      "cell_type": "markdown",
      "metadata": {
        "id": "view-in-github",
        "colab_type": "text"
      },
      "source": [
        "[View in Colaboratory](https://colab.research.google.com/github/bushschool/cs-integration/blob/master/day04_functions.ipynb)"
      ]
    },
    {
      "metadata": {
        "id": "QF8YZdRxe8li",
        "colab_type": "text"
      },
      "cell_type": "markdown",
      "source": [
        "# day04 - Functions\n",
        "- **Classwork and HW: Functions Practice**\n",
        "- **Goals:**\n",
        "    - Define functions with a single argument\n",
        "    - Define functions with multiple arguments\n",
        "    - Define functions to solve arithmetic sequence, y-intercept, and simple interest math problems.\n",
        "    - Call functions multiple times with different arguments. \n",
        "  \n"
      ]
    },
    {
      "metadata": {
        "id": "cTPVfao1iSdg",
        "colab_type": "text"
      },
      "cell_type": "markdown",
      "source": [
        "# Classwork: Functions\n",
        "\n",
        "What is a function? \n",
        "* in math?\n",
        "* in computer science?"
      ]
    },
    {
      "metadata": {
        "id": "usdPrw9YUdkM",
        "colab_type": "text"
      },
      "cell_type": "markdown",
      "source": [
        "## HW REVIEW - Exercise: Write a few functions.\n",
        "\n",
        "Write the functions described in the code cells below. Don't forget to test your function by calling your function.\n",
        "\n",
        "\n"
      ]
    },
    {
      "metadata": {
        "id": "KtOxeT6rok3-",
        "colab_type": "text"
      },
      "cell_type": "markdown",
      "source": [
        "### 1) Define a function called quadruple that takes an argument x and returns a 4 times x.\n",
        "\n",
        "Replace the ... with the correct expression"
      ]
    },
    {
      "metadata": {
        "id": "hGOA9nb6Wkc3",
        "colab_type": "code",
        "colab": {}
      },
      "cell_type": "code",
      "source": [
        "# define the function\n",
        "def quadruple(x):\n"
      ],
      "execution_count": 0,
      "outputs": []
    },
    {
      "metadata": {
        "id": "tkazq5zLom52",
        "colab_type": "text"
      },
      "cell_type": "markdown",
      "source": [
        "### 2) Define a function called multInverse that takes an argument x and returns the multiplicative inverse (reciprocal) of x."
      ]
    },
    {
      "metadata": {
        "id": "Enl-WyzEotSa",
        "colab_type": "code",
        "colab": {}
      },
      "cell_type": "code",
      "source": [
        "# multiplicative inverse\n"
      ],
      "execution_count": 0,
      "outputs": []
    },
    {
      "metadata": {
        "id": "xOvoNq9zyEZE",
        "colab_type": "text"
      },
      "cell_type": "markdown",
      "source": [
        "## Practice writing functions"
      ]
    },
    {
      "metadata": {
        "id": "WPiv-ScNmBAv",
        "colab_type": "text"
      },
      "cell_type": "markdown",
      "source": [
        "### 3) Sum of Squares\n",
        "\n",
        "**Functions can take more than one argument**\n",
        "\n",
        "Define a function called **sum_of_squares** that takes two arguments **x** and **y** and returns the sum of squares **x<sup>2</sup> + y<sup>2</sup>**. \n",
        "\n",
        "*Remember: the syntax for a power is x**2, not x^2.*"
      ]
    },
    {
      "metadata": {
        "id": "9w9FJrpmi6hq",
        "colab_type": "code",
        "colab": {}
      },
      "cell_type": "code",
      "source": [
        "# sum_of_squares\n"
      ],
      "execution_count": 0,
      "outputs": []
    },
    {
      "metadata": {
        "id": "yfyllUgJdvFm",
        "colab_type": "text"
      },
      "cell_type": "markdown",
      "source": [
        "### 4) Finding the y-intercept.\n",
        "\n",
        "1) Define a python function for each of the functions below --\n",
        "\n",
        "* *f(x), g(x), h(x), m(x), n(x)*.\n",
        "\n",
        "2) Call the function with the appropriate argument to determine the y-intercept.\n",
        "\n",
        "* *What should the argument be? What is x equal to when the function intercepts the y axis?*\n",
        "    \n",
        "3) Call the function to evaluate the function for two addition x values, for example:\n",
        "\n",
        "* *f(2) = ?*        \n",
        "* *f(-999) = ?*\n",
        "\n",
        "*Note: you don't need to simplify the mathematical expression when defining the function. The computer will do the work for you.*"
      ]
    },
    {
      "metadata": {
        "id": "ukqoGFNMd3PO",
        "colab_type": "text"
      },
      "cell_type": "markdown",
      "source": [
        "#### f(x) = 2x + 3 + 5x -10 + 143x + 112 - 102x\n",
        "\n",
        "\n"
      ]
    },
    {
      "metadata": {
        "id": "yldCiAadd2g4",
        "colab_type": "code",
        "colab": {}
      },
      "cell_type": "code",
      "source": [
        "#define function f(x)\n",
        "def f(x):\n",
        "    return ...\n",
        "\n",
        "\n",
        "#call the function to find the y-intercept\n",
        "y0 = ...\n",
        "print(\"The y-intercept of f(x) is\", ... )\n",
        "\n",
        "#call the function to find f(2)\n",
        "print(\"f(2) = \", ... )\n",
        "\n",
        "#call the function to find f(-999)\n",
        "print(\"f(-999) = \", ... )"
      ],
      "execution_count": 0,
      "outputs": []
    },
    {
      "metadata": {
        "id": "uQ_GP7LAek4l",
        "colab_type": "text"
      },
      "cell_type": "markdown",
      "source": [
        "#### g(x) = 202x - 101 - 954x + 354\n",
        "\n",
        "\n",
        "\n",
        "\n",
        "\n",
        "\n",
        "\n",
        "\n"
      ]
    },
    {
      "metadata": {
        "id": "_g0a5K_DdtMh",
        "colab_type": "code",
        "colab": {}
      },
      "cell_type": "code",
      "source": [
        "#define function g(x)\n"
      ],
      "execution_count": 0,
      "outputs": []
    },
    {
      "metadata": {
        "id": "b247OhQUGWHH",
        "colab_type": "text"
      },
      "cell_type": "markdown",
      "source": [
        "#### h(x) = 1/x\n",
        "\n",
        "You've already defined a python function for h(x). It's called **multIverse**.\n",
        "\n",
        "Call the function to determine the y-intercept."
      ]
    },
    {
      "metadata": {
        "id": "q7aM_f02If1s",
        "colab_type": "code",
        "colab": {}
      },
      "cell_type": "code",
      "source": [
        "# function call to multInverse"
      ],
      "execution_count": 0,
      "outputs": []
    },
    {
      "metadata": {
        "id": "sJ9_CH7LGX5c",
        "colab_type": "text"
      },
      "cell_type": "markdown",
      "source": [
        "#### m(x) = 3<sup>x</sup> + 1"
      ]
    },
    {
      "metadata": {
        "id": "kYYOlzjZJSO9",
        "colab_type": "code",
        "colab": {}
      },
      "cell_type": "code",
      "source": [
        ""
      ],
      "execution_count": 0,
      "outputs": []
    },
    {
      "metadata": {
        "id": "6Ezd5WqcJh7t",
        "colab_type": "text"
      },
      "cell_type": "markdown",
      "source": [
        "#### n(x) = -32x<sup>2</sup> + 5x + 10 + 61x<sup>2</sup> -31x -21"
      ]
    },
    {
      "metadata": {
        "id": "TasplfGpKGiK",
        "colab_type": "code",
        "colab": {}
      },
      "cell_type": "code",
      "source": [
        ""
      ],
      "execution_count": 0,
      "outputs": []
    },
    {
      "metadata": {
        "id": "uyWuNsIKkLbG",
        "colab_type": "text"
      },
      "cell_type": "markdown",
      "source": [
        "###  5) Arithmetic Sequences - OPTIONAL\n",
        "\n"
      ]
    },
    {
      "metadata": {
        "id": "Zh3tD8ROeYgW",
        "colab_type": "text"
      },
      "cell_type": "markdown",
      "source": [
        "####a) Define a function called **arithmetic_seq1** that \n",
        "* 1) takes the term number **n** as an argument, and \n",
        "* 2) returns the term **a<sub>n</sub>**.\n",
        "\n",
        "The sequence is **3, –2, –7, –12,...**\n",
        "\n",
        "*Hint: First determine the explicit formula.*"
      ]
    },
    {
      "metadata": {
        "id": "HCbZqyNmyROy",
        "colab_type": "code",
        "colab": {}
      },
      "cell_type": "code",
      "source": [
        "# arithmetic sequence 1\n",
        "\n",
        "\n",
        "# call the function for n = 100"
      ],
      "execution_count": 0,
      "outputs": []
    },
    {
      "metadata": {
        "id": "sS5NIe4ZeceP",
        "colab_type": "text"
      },
      "cell_type": "markdown",
      "source": [
        "####b) Define a function called **arithmetic_seq2** that \n",
        "* 1) takes the term number **n** as an argument, and \n",
        "* 2) returns the term **a<sub>n</sub>**.\n",
        "\n",
        "The sequence is **2, 5, 8, 11,...**\n",
        "\n",
        "*Hint: First determine the explicit formula.*"
      ]
    },
    {
      "metadata": {
        "id": "yfKSWIBNedk-",
        "colab_type": "code",
        "colab": {}
      },
      "cell_type": "code",
      "source": [
        "# arithmetic sequence 2\n",
        "\n",
        "\n",
        "# call the function for n = 100"
      ],
      "execution_count": 0,
      "outputs": []
    },
    {
      "metadata": {
        "id": "_VKnzBEDvnQl",
        "colab_type": "text"
      },
      "cell_type": "markdown",
      "source": [
        "#### Challenge) nth_term()\n",
        "\n",
        "Define a function **nth_term()** that takes three arguments: the first two arguments **(a1,a2)** are two consecutive terms of an arithmetic sequence, and the third argument is an integer **n**.  Your function should return the n'th number in the sequence. \n",
        "\n",
        "*Hint: n = 1 should yield the first parameter, n = 2 should yield the second*\n"
      ]
    },
    {
      "metadata": {
        "id": "d_KmIKpwvj7l",
        "colab_type": "code",
        "colab": {}
      },
      "cell_type": "code",
      "source": [
        "def nth_term(a1, a2, n):"
      ],
      "execution_count": 0,
      "outputs": []
    },
    {
      "metadata": {
        "id": "xkz5gWjev8lw",
        "colab_type": "text"
      },
      "cell_type": "markdown",
      "source": [
        "## Function Playground"
      ]
    },
    {
      "metadata": {
        "id": "qXcTShmHv-sO",
        "colab_type": "code",
        "colab": {}
      },
      "cell_type": "code",
      "source": [
        ""
      ],
      "execution_count": 0,
      "outputs": []
    },
    {
      "metadata": {
        "id": "btxx1iJ213WB",
        "colab_type": "text"
      },
      "cell_type": "markdown",
      "source": [
        "# HW: Simple Interest and Arithmetic Sequence Function\n"
      ]
    },
    {
      "metadata": {
        "id": "NukIULHcLB75",
        "colab_type": "text"
      },
      "cell_type": "markdown",
      "source": [
        "## 6) p(x) = 503x + 202 - 153x + 505\n",
        "\n",
        "* Define a python function for p(x)\n",
        "\n",
        "* Call the function with the appropriate argument to determine the y-intercept.\n"
      ]
    },
    {
      "metadata": {
        "id": "Gc9l2_tALUyq",
        "colab_type": "code",
        "colab": {}
      },
      "cell_type": "code",
      "source": [
        ""
      ],
      "execution_count": 0,
      "outputs": []
    },
    {
      "metadata": {
        "id": "gPn_TLz5mCPi",
        "colab_type": "text"
      },
      "cell_type": "markdown",
      "source": [
        "## 7) Simple Interest\n",
        "\n",
        "The simple interest equation is as follows:\n",
        "\n",
        "*A = P(1+rt)* \n",
        "\n",
        "Where:\n",
        "* A = Total Accrued Amount\n",
        "* P = Principal Amount\n",
        "* r = Rate of Interest per year in decimal\n",
        "* t = Time Period involved in months or years\n",
        "\n",
        "Write a function called **amount()** that returns the *Accrued Amount (A)* given *P, r, and t* as arguments.\n"
      ]
    },
    {
      "metadata": {
        "id": "K3Q-Lchwni4S",
        "colab_type": "code",
        "colab": {}
      },
      "cell_type": "code",
      "source": [
        "# function that returns accrued amount (A), given P, r, and t"
      ],
      "execution_count": 0,
      "outputs": []
    },
    {
      "metadata": {
        "id": "9HWX5LPlnssi",
        "colab_type": "text"
      },
      "cell_type": "markdown",
      "source": [
        "Now call your function and determine the principal for the following two scenarios:\n",
        "\n",
        "Scenario 1\n",
        "* P = $1500\n",
        "* t = 3 years\n",
        "* r = 10%\n",
        "\n",
        "Scenario 2\n",
        "* P = $100\n",
        "* t = 20 years\n",
        "* r = 6.5%\n",
        "\n"
      ]
    },
    {
      "metadata": {
        "id": "IvfEJ0AdntGw",
        "colab_type": "code",
        "colab": {}
      },
      "cell_type": "code",
      "source": [
        "#function call to amount() for scenario 1.\n",
        "amount1 = ...\n",
        "print(\"A1: \", amount1)\n",
        "\n",
        "#function call to amount() for scenario 2.\n"
      ],
      "execution_count": 0,
      "outputs": []
    },
    {
      "metadata": {
        "id": "ZxHxGRlHkfBo",
        "colab_type": "text"
      },
      "cell_type": "markdown",
      "source": [
        "## Questions\n",
        "\n",
        "Write any questions in the text cell below:"
      ]
    },
    {
      "metadata": {
        "id": "mOoPK-x5kg0A",
        "colab_type": "text"
      },
      "cell_type": "markdown",
      "source": [
        ""
      ]
    },
    {
      "metadata": {
        "id": "Od84WdR8UeL5",
        "colab_type": "text"
      },
      "cell_type": "markdown",
      "source": [
        "# Functions reference"
      ]
    },
    {
      "metadata": {
        "id": "GaCkpzpVhVeZ",
        "colab_type": "text"
      },
      "cell_type": "markdown",
      "source": [
        "## Function Definition"
      ]
    },
    {
      "metadata": {
        "id": "MdakWDut4qV5",
        "colab_type": "text"
      },
      "cell_type": "markdown",
      "source": [
        "Let’s begin with an analogy to something that you know and love: mathematical functions. In math, a function can be thought of as a “box” that takes some data as input, or argument, and returns some data as output, which we call its result, return value, or simply value. For example, the function *f(x)=2x* has an argument called *x*, and for any value that we “stick into” *x* we get back a value that is twice as large. Python lets us define functions too, and as in math, these functions take some data as arguments, process that data in some way, and then return some data as a result. Here’s a Python function that we’ve named ```f```, which takes an argument we are calling ```x``` and returns a result that is two times ```x```.\n",
        "\n",
        "In other words:\n",
        "\n",
        "```python\n",
        "def f ( x ):\n",
        "    return 2 * x\n",
        "  ```\n",
        "Actually, we’ll learn later that unlike in math, Python functions do not have to take arguments or return results. But for now we’ll focus on functions that do.\n",
        "\n",
        "In Python, the syntax for functions uses the special word ```def```, which means: “I’m ```def```ining a function.” Then comes the name that we’ve chosen for the function; in our case we chose to call it f. Then come the arguments to the function in parentheses (just like the definition of a function in math!), followed by a colon (“:”). Then, we start a new line, indented a few spaces, and begin the function. In this case, our function computes 2*x and then returns it. The word ```return``` tells Python to give us back that value as the function’s result. Don’t forget to indent the line (or lines) after the first line. Python absolutely demands this. We can now run the function in a code cell like this:\n",
        "\n"
      ]
    },
    {
      "metadata": {
        "id": "MnHXsDRJNaR_",
        "colab_type": "code",
        "colab": {}
      },
      "cell_type": "code",
      "source": [
        "def f(x):\n",
        "  return 2*x\n",
        "\n",
        "f(10)"
      ],
      "execution_count": 0,
      "outputs": []
    },
    {
      "metadata": {
        "id": "ygnWiDNyNgbk",
        "colab_type": "code",
        "colab": {}
      },
      "cell_type": "code",
      "source": [
        "f(-1)"
      ],
      "execution_count": 0,
      "outputs": []
    },
    {
      "metadata": {
        "id": "SzqxnH1UNnup",
        "colab_type": "text"
      },
      "cell_type": "markdown",
      "source": [
        "When we type ```f(10)``` we say that this is a function call because we are metaphorically placing a telephone call to ```f``` with argument ```10``` and asking it to give us an answer. When we call ```f```, Python takes the value inside the parentheses and assigns it to the name ```x```. Then it executes the statement or statements inside the function in order until there are no more statements to execute in the function. In this case, there is only a single statement inside the function, which doubles the value of x and returns the result to where the function was called.\n",
        "\n",
        "You can name a function more or less anything you want (as with variable names, there are a few exceptions, but it’s not worth enumerating them). In this example, we called the function f simply to make the analogy with the mathematical function ```f(x)=2x``` that we defined at the beginning. To be honest, it’s better to give functions descriptive names, just as we’ve advocated doing for variables. So, calling the function something like double would probably have been a better choice.\n",
        "\n"
      ]
    },
    {
      "metadata": {
        "id": "wQGwSK5IO38O",
        "colab_type": "text"
      },
      "cell_type": "markdown",
      "source": [
        "## Functions Can Have More Than One Line\n",
        "The function above, ```f```, had only one statement, which doubled its argument and returned that value. However, in general functions are not limited to a single Python statement, but rather may have as many statements as you choose. For example, we could have written the exact same function from above as follows:\n",
        "\n",
        "```python\n",
        "1 def double(x):\n",
        "2     twoTimesX = 2 * x\n",
        "3     return twoTimesX\n",
        "  \n",
        "4 double(-5)\n",
        " ```\n",
        " \n",
        "Notice that when there is more than one statement in the function they must all be indented to the same position (lines 2 and 3). This is how Python knows which statements are inside the function and which are not. When you call a function (```line 4: double(-5)```), it should be back at the ```def``` level of indentation.\n",
        "\n"
      ]
    },
    {
      "metadata": {
        "id": "vIXdH8_yWFvg",
        "colab_type": "code",
        "colab": {}
      },
      "cell_type": "code",
      "source": [
        "\n",
        "#doube(x) Takes a number x as an argument and returns 2∗x.\n",
        "def double(x):\n",
        "   twoTimesX = 2 * x\n",
        "   return twoTimesX\n",
        "  \n",
        "double(-5)\n"
      ],
      "execution_count": 0,
      "outputs": []
    },
    {
      "metadata": {
        "id": "drNbcy2BWMoR",
        "colab_type": "code",
        "colab": {}
      },
      "cell_type": "code",
      "source": [
        "double(57897)"
      ],
      "execution_count": 0,
      "outputs": []
    }
  ]
}