{
  "nbformat": 4,
  "nbformat_minor": 0,
  "metadata": {
    "colab": {
      "name": "day02-strings-lists.ipynb",
      "version": "0.3.2",
      "provenance": [],
      "collapsed_sections": [],
      "toc_visible": true,
      "include_colab_link": true
    }
  },
  "cells": [
    {
      "cell_type": "markdown",
      "metadata": {
        "id": "view-in-github",
        "colab_type": "text"
      },
      "source": [
        "[View in Colaboratory](https://colab.research.google.com/github/beccaelenzil-teach/CS-Becca-1718/blob/master/day02_strings_lists.ipynb)"
      ]
    },
    {
      "metadata": {
        "id": "QF8YZdRxe8li",
        "colab_type": "text"
      },
      "cell_type": "markdown",
      "source": [
        "# day02 - Strings and Lists\n",
        "\n",
        "> Indented block\n",
        "\n",
        "> Indented block\n",
        "\n",
        "\n",
        "\n",
        "\n",
        "\n",
        "Last class we worked with one type of data: numbers. Today we learn about and work with two additional data types: strings and lists.\n",
        "\n",
        "Goals:\n",
        "- Take a section of a string or list.\n",
        "- Determine the length of a string or list.\n",
        "- Combine strings using string arithmetic.\n",
        "\n",
        "Credit: [CS for All Text](https://www.cs.hmc.edu/csforall/FunctionalProgramming/functionalprogramming.html#more-data-from-numbers-to-strings)"
      ]
    },
    {
      "metadata": {
        "id": "iVB49hd9Pu1X",
        "colab_type": "text"
      },
      "cell_type": "markdown",
      "source": [
        "# Classwork Code Cells"
      ]
    },
    {
      "metadata": {
        "id": "4bCEr9zIeRtu",
        "colab_type": "text"
      },
      "cell_type": "markdown",
      "source": [
        "### Strings"
      ]
    },
    {
      "metadata": {
        "id": "IZsb5gynd5bX",
        "colab_type": "code",
        "colab": {}
      },
      "cell_type": "code",
      "source": [
        "#assigning a string to a variable"
      ],
      "execution_count": 0,
      "outputs": []
    },
    {
      "metadata": {
        "id": "sm-8pzZkehSP",
        "colab_type": "text"
      },
      "cell_type": "markdown",
      "source": [
        "#### Length"
      ]
    },
    {
      "metadata": {
        "id": "P4bQG6NBd8mS",
        "colab_type": "code",
        "colab": {}
      },
      "cell_type": "code",
      "source": [
        "#length"
      ],
      "execution_count": 0,
      "outputs": []
    },
    {
      "metadata": {
        "id": "g6s6JSbjeYyI",
        "colab_type": "text"
      },
      "cell_type": "markdown",
      "source": [
        "#### Indexing and Slicing"
      ]
    },
    {
      "metadata": {
        "id": "4oKPLMcqd--X",
        "colab_type": "code",
        "colab": {}
      },
      "cell_type": "code",
      "source": [
        "#indexing - indices start at 0\n",
        "#--------------\n",
        "#0 1 2 3 4 5 6 7 8 9\n",
        "#c a n t a l o u p e"
      ],
      "execution_count": 0,
      "outputs": []
    },
    {
      "metadata": {
        "id": "pgWxzZm0eE_I",
        "colab_type": "code",
        "colab": {}
      },
      "cell_type": "code",
      "source": [
        "#a negative index starts counting from the right"
      ],
      "execution_count": 0,
      "outputs": []
    },
    {
      "metadata": {
        "id": "yX0PILGbeATx",
        "colab_type": "code",
        "colab": {}
      },
      "cell_type": "code",
      "source": [
        "#SLICING\n",
        "#a slice [A:B] goes from an A up to but not including B"
      ],
      "execution_count": 0,
      "outputs": []
    },
    {
      "metadata": {
        "id": "8POgSwc8eGR6",
        "colab_type": "code",
        "colab": {}
      },
      "cell_type": "code",
      "source": [
        "#a slice in the form [A:B:C] goest from Index A up to index B by steps of C"
      ],
      "execution_count": 0,
      "outputs": []
    },
    {
      "metadata": {
        "id": "kwJtf1RIecjh",
        "colab_type": "text"
      },
      "cell_type": "markdown",
      "source": [
        "#### String Arithmetic"
      ]
    },
    {
      "metadata": {
        "id": "TH57wEhbeJBb",
        "colab_type": "code",
        "colab": {}
      },
      "cell_type": "code",
      "source": [
        "#string arithmetic"
      ],
      "execution_count": 0,
      "outputs": []
    },
    {
      "metadata": {
        "id": "LQeSrWtQeViC",
        "colab_type": "text"
      },
      "cell_type": "markdown",
      "source": [
        "### Lists"
      ]
    },
    {
      "metadata": {
        "id": "RQmaThOjeJ3V",
        "colab_type": "code",
        "colab": {}
      },
      "cell_type": "code",
      "source": [
        "#-----LISTS-------\n",
        "#Lists of numbers"
      ],
      "execution_count": 0,
      "outputs": []
    },
    {
      "metadata": {
        "id": "gzpRvIPoeLYx",
        "colab_type": "code",
        "colab": {}
      },
      "cell_type": "code",
      "source": [
        "#lists of strings"
      ],
      "execution_count": 0,
      "outputs": []
    },
    {
      "metadata": {
        "id": "OMGoU7loeMfE",
        "colab_type": "code",
        "colab": {}
      },
      "cell_type": "code",
      "source": [
        "#lists of different types"
      ],
      "execution_count": 0,
      "outputs": []
    },
    {
      "metadata": {
        "id": "pnDVOfJdeO2Z",
        "colab_type": "code",
        "colab": {}
      },
      "cell_type": "code",
      "source": [
        "#indexing lists\n",
        "#If you have a list of strings called names \n",
        "#names[A][B] --> A is the name index of the name in the list, \n",
        "#            --> B is the index of the letter in that name"
      ],
      "execution_count": 0,
      "outputs": []
    },
    {
      "metadata": {
        "id": "ICL16aRae79W",
        "colab_type": "text"
      },
      "cell_type": "markdown",
      "source": [
        "# Reference: Strings and Lists"
      ]
    },
    {
      "metadata": {
        "id": "nYhjdQxQffDV",
        "colab_type": "text"
      },
      "cell_type": "markdown",
      "source": [
        "## 1. Strings\n",
        "\n",
        "A string is any sequence of symbols within quotation marks. \n",
        "\n",
        "Here are some examples: \n",
        "\n"
      ]
    },
    {
      "metadata": {
        "id": "w-o7qXLOcxXc",
        "colab_type": "code",
        "colab": {}
      },
      "cell_type": "code",
      "source": [
        "name1 = \"Alban\"\n",
        "name2 = 'Amanda'\n",
        "name1"
      ],
      "execution_count": 0,
      "outputs": []
    },
    {
      "metadata": {
        "id": "uzoisFTdgcZC",
        "colab_type": "text"
      },
      "cell_type": "markdown",
      "source": [
        "Note that you can use single quotes or double quotes for a string. Also notice that when you print a *string*, the quotation marks do not appear by running the code below. "
      ]
    },
    {
      "metadata": {
        "id": "YwWzsMougsaV",
        "colab_type": "code",
        "colab": {}
      },
      "cell_type": "code",
      "source": [
        "print(name2)"
      ],
      "execution_count": 0,
      "outputs": []
    },
    {
      "metadata": {
        "id": "Pb2rJoECg5c6",
        "colab_type": "text"
      },
      "cell_type": "markdown",
      "source": [
        "### Length\n",
        "\n",
        "You can find the length of a string by using the python function ```len```"
      ]
    },
    {
      "metadata": {
        "id": "pNS0p4Cqg9hx",
        "colab_type": "code",
        "colab": {}
      },
      "cell_type": "code",
      "source": [
        "len(name1)"
      ],
      "execution_count": 0,
      "outputs": []
    },
    {
      "metadata": {
        "id": "q0f9KQK3hCeD",
        "colab_type": "code",
        "colab": {}
      },
      "cell_type": "code",
      "source": [
        "len(name2)"
      ],
      "execution_count": 0,
      "outputs": []
    },
    {
      "metadata": {
        "id": "TeYcOZaaOynA",
        "colab_type": "code",
        "colab": {}
      },
      "cell_type": "code",
      "source": [
        ""
      ],
      "execution_count": 0,
      "outputs": []
    },
    {
      "metadata": {
        "id": "Tum_AtwhhQ2X",
        "colab_type": "text"
      },
      "cell_type": "markdown",
      "source": [
        "### Indexing and Slicing\n",
        "\n",
        "Indexing in python starts with 0\n",
        "\n",
        "\n",
        "\n",
        "\n",
        "\n",
        "\n",
        "```python\n",
        "1 fruit = 'cantaloupe'\n",
        "2 fruit[0] = c\n",
        "3 fruit[1] = a\n",
        "4 ...\n",
        "5 fruit[10] = e\n",
        "```\n",
        "and so on...\n",
        "\n",
        "|0|1|2|3|4|5|6|7|8|9\n",
        "|---|---|---|---|---|\n",
        "|c|a|n|t|a|l|o|u|p|e\n",
        "\n",
        "To take a slice of a string, use the **index of the first item you want to one past the last item you want**.\n",
        "\n",
        "*What characters are included in the following slice?*\n",
        "\n",
        "```python\n",
        "1 fruit = 'cantaloupe'\n",
        "2 fruit[1:4]\n",
        "```"
      ]
    },
    {
      "metadata": {
        "id": "BjDae1JluS-E",
        "colab_type": "code",
        "colab": {}
      },
      "cell_type": "code",
      "source": [
        "fruit = 'cantaloupe'\n",
        "fruit[1:4]"
      ],
      "execution_count": 0,
      "outputs": []
    },
    {
      "metadata": {
        "id": "4lLzORvWAG1P",
        "colab_type": "code",
        "colab": {}
      },
      "cell_type": "code",
      "source": [
        "# Test out some of the indexing rules"
      ],
      "execution_count": 0,
      "outputs": []
    },
    {
      "metadata": {
        "id": "_5yn-339vdXq",
        "colab_type": "text"
      },
      "cell_type": "markdown",
      "source": [
        "Below are a handful more useful rules for taking slices\n",
        "\n",
        "|0|1|2|3|4|5|6|7|8|9\n",
        "|---|---|---|---|---|\n",
        "|c|a|n|t|a|l|o|u|p|e\n",
        "\n",
        "```python\n",
        "fruit = 'cantaloupe'\n",
        "\n",
        "# To start at the beginning of a string up until an index use [:#]\n",
        "fruit[0:4] = 'cant'\n",
        "fruit[:4] = 'cant'\n",
        "\n",
        "# To start at a particular index and go to the end of a string use [#:]\n",
        "fruit[5:11] = 'loupe'\n",
        "fruit[5:] = 'loupe'\n",
        "\n",
        "# A negative index starts counting from the right\n",
        "fruit[-1] = 'e'\n",
        "fruit[-5:-1] = 'loup'\n",
        "fruit[-5:] = 'loupe'\n",
        "\n",
        "# A slice in the form [A:B:C] goes from index A up to index B by steps of C\n",
        "fruit[0:11:2] = 'cnaop'\n",
        "fruit[::2] = 'cnaop'\n",
        "# a negative step allows you to step from right to left.\n",
        "fruit[8:0:-2] = 'poan'\n",
        "fruit[-2:0:-2] = 'poan'\n",
        "```\n",
        "\n"
      ]
    },
    {
      "metadata": {
        "id": "EcEgxfwtvwI4",
        "colab_type": "text"
      },
      "cell_type": "markdown",
      "source": [
        "### String Arithmetic\n",
        "Strings can be “added” together. Adding two strings results in a new string that is simply the first one followed by the second. This is called string concatenation. For example,\n",
        "\n",
        ">>> 'yum' + 'my'\n",
        "'yummy'\n",
        "Once we can add, we can also multiply!\n",
        "\n",
        ">>> 'yum' * 3\n",
        "'yumyumyum'\n",
        "\n",
        "What do you think the code cells below will output?"
      ]
    },
    {
      "metadata": {
        "id": "LI6NN7jqv0tm",
        "colab_type": "code",
        "colab": {}
      },
      "cell_type": "code",
      "source": [
        "'yum'+'my'"
      ],
      "execution_count": 0,
      "outputs": []
    },
    {
      "metadata": {
        "id": "ya2tqOMFv3p4",
        "colab_type": "code",
        "colab": {}
      },
      "cell_type": "code",
      "source": [
        "('yum'+'my')*3"
      ],
      "execution_count": 0,
      "outputs": []
    },
    {
      "metadata": {
        "id": "rXr9xdi0wBgG",
        "colab_type": "text"
      },
      "cell_type": "markdown",
      "source": [
        "## Lists\n",
        "\n",
        "Lists are similar to strings, but instead of a collection of characters within quotation marks, they're a collection of different data within brackets. They follow the same rules for indexing, and many of the same functions can be used.\n"
      ]
    },
    {
      "metadata": {
        "id": "I7pEldf7wenI",
        "colab_type": "code",
        "colab": {}
      },
      "cell_type": "code",
      "source": [
        "# A list containing strings\n",
        "math_teachers = ['alban','amanda','becca','christine','devin','sara','tom']\n",
        "math_teachers"
      ],
      "execution_count": 0,
      "outputs": []
    },
    {
      "metadata": {
        "id": "0AY2X-dSws2b",
        "colab_type": "code",
        "colab": {}
      },
      "cell_type": "code",
      "source": [
        "# a list containing numbers\n",
        "odd_digits = [1,3,5,7,9]\n",
        "odd_digits"
      ],
      "execution_count": 0,
      "outputs": []
    },
    {
      "metadata": {
        "id": "F1VtgXY7w4Ft",
        "colab_type": "code",
        "colab": {}
      },
      "cell_type": "code",
      "source": [
        "# a list containing strings, a number, and a list\n",
        "stuff = ['hi', 2018, 'school',[2,4,6,8]]\n",
        "stuff"
      ],
      "execution_count": 0,
      "outputs": []
    },
    {
      "metadata": {
        "id": "ws9xBuoAxHew",
        "colab_type": "text"
      },
      "cell_type": "markdown",
      "source": [
        "If you have a list of strings, and you want to access a character in one of the strings, first access the string, than access the character.\n",
        "\n",
        "For example:\n",
        "\n",
        "```python\n",
        "math_teachers = ['alban','amanda','becca','christine','devin','sara','tom']\n",
        "math_teachers[3][1] = 'h'\n",
        "```\n",
        "\n",
        "Predict what the code cells below will output when run."
      ]
    },
    {
      "metadata": {
        "id": "HxWbag3VxuXP",
        "colab_type": "code",
        "colab": {}
      },
      "cell_type": "code",
      "source": [
        "math_teachers[2][4]"
      ],
      "execution_count": 0,
      "outputs": []
    },
    {
      "metadata": {
        "id": "LxxavxfS2l_r",
        "colab_type": "code",
        "colab": {}
      },
      "cell_type": "code",
      "source": [
        "stuff[3][1]"
      ],
      "execution_count": 0,
      "outputs": []
    },
    {
      "metadata": {
        "id": "oPEth2bV26E8",
        "colab_type": "text"
      },
      "cell_type": "markdown",
      "source": [
        "# HW: Strings and Lists Exercise \n",
        "Now use the rules you've learned about strings and lists to answer the questions below. Write your answer below each question, then use a code cell to check your work. Remember to double click to edit a text cell. \n",
        "\n",
        "```python\n",
        "pi = [3,1,4,1,5,9]\n",
        "\n",
        "L = [ 'pi', \"isn't\", [4,2] ]\n",
        "\n",
        "M = 'You need parentheses for chemistry !'\n",
        "```\n",
        "\n",
        "1) What is ```len(pi)```?\n",
        "\n",
        "answer: ...\n",
        "\n",
        "2) What is ```len(L)```?\n",
        "\n",
        "answer: ...\n",
        "\n",
        "3) What is ```len(L[1])```?\n",
        "\n",
        "answer: ...\n",
        "\n",
        "4) What is ```pi[2:4]```?\n",
        "\n",
        "answer: ...\n",
        "\n",
        "5) What slice of pi is ``[3,1,4]```? Include pi in your answer.\n",
        "\n",
        "Answer: ...\n",
        "\n",
        "6) What slice of pi is ``[3,4,5]```? Include pi in your answer.\n",
        "\n",
        "answer: ...\n",
        "\n",
        "7) What is ``` L[0]```?\n",
        "\n",
        "answer: ...\n",
        "\n",
        "8) What is ``` L[0:1]```?\n",
        "\n",
        "answer: ...\n",
        "\n",
        "9) What is ``` L[0][1]```?\n",
        "\n",
        "answer: ...\n",
        "\n",
        "10) What is ```M[9:15]```?\n",
        "\n",
        "answer: ...\n",
        "\n"
      ]
    },
    {
      "metadata": {
        "id": "nMszv-jW4FA1",
        "colab_type": "code",
        "colab": {}
      },
      "cell_type": "code",
      "source": [
        "# Test exercise answers\n",
        "\n",
        "pi = [3,1,4,1,5,9]\n",
        "L = [ 'pi', \"isn't\", [4,2] ]\n",
        "M = 'You need parentheses for chemistry !'\n",
        "\n",
        "# change the line below depending on which question/expression you want to test.\n",
        "len(pi)"
      ],
      "execution_count": 0,
      "outputs": []
    }
  ]
}