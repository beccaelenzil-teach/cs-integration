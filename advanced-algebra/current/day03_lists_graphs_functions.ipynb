{
  "nbformat": 4,
  "nbformat_minor": 0,
  "metadata": {
    "colab": {
      "name": "day03-lists-graphs-functions.ipynb",
      "version": "0.3.2",
      "provenance": [],
      "collapsed_sections": [],
      "toc_visible": true,
      "include_colab_link": true
    },
    "kernelspec": {
      "name": "python3",
      "display_name": "Python 3"
    }
  },
  "cells": [
    {
      "cell_type": "markdown",
      "metadata": {
        "id": "view-in-github",
        "colab_type": "text"
      },
      "source": [
        "[View in Colaboratory](https://colab.research.google.com/github/beccaelenzil-teach/CS-Becca-1718/blob/master/day03_lists_graphs_functions.ipynb)"
      ]
    },
    {
      "metadata": {
        "id": "QF8YZdRxe8li",
        "colab_type": "text"
      },
      "cell_type": "markdown",
      "source": [
        "# day03 -\n",
        "- **Classwork: Reflection and graphing with lists**\n",
        "  \n",
        "- **HW: functions interactive reading and exercises**\n",
        "\n",
        "Today we will continue to work with strings and lists to gain fluency with their operations. We will use lists to plot a variety of shapes.\n"
      ]
    },
    {
      "metadata": {
        "id": "oPEth2bV26E8",
        "colab_type": "text"
      },
      "cell_type": "markdown",
      "source": [
        "# Reflection: Strings and Lists Exercise \n",
        "\n",
        "What did you learn about indexing and slicing strings and lists?"
      ]
    },
    {
      "metadata": {
        "id": "WjbGB2XmMlYp",
        "colab_type": "text"
      },
      "cell_type": "markdown",
      "source": [
        "# Classwork: Drawing shapes with lists.\n",
        "\n",
        "Today in class we will use lists of x and y values to make graphs of shapes. \n",
        "\n",
        "We will represent an x/y table with two lists as shown below.\n",
        "\n",
        "|x|y|\n",
        "|---|---|\n",
        "|-1|-1|\n",
        "|1|-1|\n",
        "|1|1|\n",
        "|-1|1|\n",
        "\n",
        "\n",
        "```python\n",
        "x = [-1, 1, 1, -1]\n",
        "y = [-1, -1, 1, 1]\n",
        "```\n",
        "\n",
        "Below is the code for the complete x and y lists in addition to the code to plot all of these points. \n",
        "\n",
        "Let's run the code. \n",
        "\n"
      ]
    },
    {
      "metadata": {
        "id": "5NbZU_47M6Xv",
        "colab_type": "code",
        "colab": {}
      },
      "cell_type": "code",
      "source": [
        "#import the plotting library\n",
        "import matplotlib.pyplot as plt\n",
        "\n",
        "#x/y lists\n",
        "x = [-1, 1, 1, -1,-1, 2, 4, 3, 2, 0, -2, -1, 0, -1, -2]\n",
        "y = [-1, -1, 1, 1, -1, 1, 1, 3, 1, 2, 2, 3, 2, 1, 2]\n",
        "\n",
        "#plot x/y\n",
        "plt.plot(x,y)\n",
        "\n",
        "#display the plot\n",
        "plt.show()"
      ],
      "execution_count": 0,
      "outputs": []
    },
    {
      "metadata": {
        "id": "WlvASfGaQHj1",
        "colab_type": "text"
      },
      "cell_type": "markdown",
      "source": [
        "## Now let's plot only a slice of the x and y lists.\n",
        "What do you think will be plotted by the code cell below?\n",
        "\n",
        "```python\n",
        "x = [-1, 1, 1, -1,-1, 2, 4, 3, 2, 0, -2, -1, 0, -1, -2]\n",
        "y = [-1, -1, 1, 1, -1, 1, 1, 3, 1, 2, 2, 3, 2, 1, 2]\n",
        "```"
      ]
    },
    {
      "metadata": {
        "id": "-hcSHUJQQFKA",
        "colab_type": "code",
        "colab": {}
      },
      "cell_type": "code",
      "source": [
        "#import the plotting library\n",
        "import matplotlib.pyplot as plt\n",
        "\n",
        "#x/y lists\n",
        "x = [-1, 1, 1, -1,-1, 2, 4, 3, 2, 0, -2, -1, 0, -1, -2]\n",
        "y = [-1, -1, 1, 1, -1, 1, 1, 3, 1, 2, 2, 3, 2, 1, 2]\n",
        "\n",
        "#plot x/y\n",
        "plt.plot(x[1:3],y[1:3])\n",
        "\n",
        "#display the plot\n",
        "plt.show()"
      ],
      "execution_count": 0,
      "outputs": []
    },
    {
      "metadata": {
        "id": "dsPPQDKxRWy6",
        "colab_type": "text"
      },
      "cell_type": "markdown",
      "source": [
        "## Square\n",
        "\n",
        "Now plot the slice of x and y that forms a square."
      ]
    },
    {
      "metadata": {
        "id": "doDkEIOYRbxr",
        "colab_type": "code",
        "colab": {}
      },
      "cell_type": "code",
      "source": [
        "#x = [-1, 1, 1, -1,-1, 2, 4, 3, 2, 0, -2, -1, 0, -1, -2]\n",
        "#y = [-1, -1, 1, 1, -1, 1, 1, 3, 1, 2, 2, 3, 2, 1, 2]\n",
        "\n",
        "#plot x/y\n",
        "plt.plot(#complete this line with the appropriate slice of x and y)\n",
        "plt.show()"
      ],
      "execution_count": 0,
      "outputs": []
    },
    {
      "metadata": {
        "id": "d-TTJSlGR4vu",
        "colab_type": "text"
      },
      "cell_type": "markdown",
      "source": [
        "## Triangle\n",
        "Now plot the slice of x and y that forms a triangle."
      ]
    },
    {
      "metadata": {
        "id": "ftOMgIl9R__B",
        "colab_type": "code",
        "colab": {}
      },
      "cell_type": "code",
      "source": [
        "#x = [-1, 1, 1, -1,-1, 2, 4, 3, 2, 0, -2, -1, 0, -1, -2]\n",
        "#y = [-1, -1, 1, 1, -1, 1, 1, 3, 1, 2, 2, 3, 2, 1, 2]\n",
        "\n",
        "#plot x/y\n",
        "plt.plot(#complete this line with the appropriate slice of x and y)\n",
        "plt.show()"
      ],
      "execution_count": 0,
      "outputs": []
    },
    {
      "metadata": {
        "id": "3Fy0bAL0SC7m",
        "colab_type": "text"
      },
      "cell_type": "markdown",
      "source": [
        "## Diamond\n",
        "Now plot the slice of x and y that forms a diamond.\n"
      ]
    },
    {
      "metadata": {
        "id": "GouME7WqSHnZ",
        "colab_type": "code",
        "colab": {}
      },
      "cell_type": "code",
      "source": [
        "#x = [-1, 1, 1, -1,-1, 2, 4, 3, 2, 0, -2, -1, 0, -1, -2]\n",
        "#y = [-1, -1, 1, 1, -1, 1, 1, 3, 1, 2, 2, 3, 2, 1, 2]\n",
        "\n",
        "#plot x/y\n",
        "plt.plot(#complete this line with the appropriate slice of x and y)\n",
        "plt.show()"
      ],
      "execution_count": 0,
      "outputs": []
    },
    {
      "metadata": {
        "id": "GZm8jfLpSImb",
        "colab_type": "text"
      },
      "cell_type": "markdown",
      "source": [
        "## Star\n",
        "\n",
        "Not plot the slice of x and y that forms a star."
      ]
    },
    {
      "metadata": {
        "id": "9e1s7j4tSMJT",
        "colab_type": "code",
        "colab": {}
      },
      "cell_type": "code",
      "source": [
        "#x = [-1, 1, 1, -1,-1, 2, 4, 3, 2, 0, -2, -1, 0, -1, -2]\n",
        "#y = [-1, -1, 1, 1, -1, 1, 1, 3, 1, 2, 2, 3, 2, 1, 2]\n",
        "\n",
        "#plot x/y\n",
        "plt.plot(#complete this line with the appropriate slice of x and y)\n",
        "plt.show()"
      ],
      "execution_count": 0,
      "outputs": []
    },
    {
      "metadata": {
        "id": "sLeBBU27Cqjn",
        "colab_type": "text"
      },
      "cell_type": "markdown",
      "source": [
        "## Play space\n",
        "\n",
        "Create your own shape."
      ]
    },
    {
      "metadata": {
        "id": "u1rQljRpCtuM",
        "colab_type": "code",
        "colab": {}
      },
      "cell_type": "code",
      "source": [
        ""
      ],
      "execution_count": 0,
      "outputs": []
    },
    {
      "metadata": {
        "id": "Gi26Yhm44OKK",
        "colab_type": "text"
      },
      "cell_type": "markdown",
      "source": [
        "# HW: Functions\n",
        "\n",
        "Complete this interactive reading for homework.\n",
        "\n",
        "Goals:\n",
        "- Define a function with a single argument.\n",
        "- Call a function.\n",
        "\n",
        "\n",
        "\n",
        "Credit: [CS for All ](https://www.cs.hmc.edu/csforall/FunctionalProgramming/functionalprogramming.html#functioning-in-python)"
      ]
    },
    {
      "metadata": {
        "id": "Od84WdR8UeL5",
        "colab_type": "text"
      },
      "cell_type": "markdown",
      "source": [
        "## Function definition"
      ]
    },
    {
      "metadata": {
        "id": "MdakWDut4qV5",
        "colab_type": "text"
      },
      "cell_type": "markdown",
      "source": [
        "Let’s begin with an analogy to something that you know and love: mathematical functions. In math, a function can be thought of as a “box” that takes some data as input, or argument, and returns some data as output, which we call its result, return value, or simply value. For example, the function *f(x)=2x* has an argument called *x*, and for any value that we “stick into” *x* we get back a value that is twice as large. Python lets us define functions too, and as in math, these functions take some data as arguments, process that data in some way, and then return some data as a result. Here’s a Python function that we’ve named ```f```, which takes an argument we are calling ```x``` and returns a result that is two times ```x```.\n",
        "\n",
        "In other words:\n",
        "\n",
        "```python\n",
        "def f ( x ):\n",
        "    return 2 * x\n",
        "  ```\n",
        "Actually, we’ll learn later that unlike in math, Python functions do not have to take arguments or return results. But for now we’ll focus on functions that do.\n",
        "\n",
        "In Python, the syntax for functions uses the special word ```def```, which means: “I’m ```def```ining a function.” Then comes the name that we’ve chosen for the function; in our case we chose to call it f. Then come the arguments to the function in parentheses (just like the definition of a function in math!), followed by a colon (“:”). Then, we start a new line, indented a few spaces, and begin the function. In this case, our function computes 2*x and then returns it. The word ```return``` tells Python to give us back that value as the function’s result. Don’t forget to indent the line (or lines) after the first line. Python absolutely demands this. We can now run the function in a code cell like this:\n",
        "\n"
      ]
    },
    {
      "metadata": {
        "id": "MnHXsDRJNaR_",
        "colab_type": "code",
        "colab": {}
      },
      "cell_type": "code",
      "source": [
        "def f(x):\n",
        "  return 2*x\n",
        "\n",
        "f(10)"
      ],
      "execution_count": 0,
      "outputs": []
    },
    {
      "metadata": {
        "id": "ygnWiDNyNgbk",
        "colab_type": "code",
        "colab": {}
      },
      "cell_type": "code",
      "source": [
        "f(-1)"
      ],
      "execution_count": 0,
      "outputs": []
    },
    {
      "metadata": {
        "id": "SzqxnH1UNnup",
        "colab_type": "text"
      },
      "cell_type": "markdown",
      "source": [
        "When we type ```f(10)``` we say that this is a function call because we are metaphorically placing a telephone call to ```f``` with argument ```10``` and asking it to give us an answer. When we call ```f```, Python takes the value inside the parentheses and assigns it to the name ```x```. Then it executes the statement or statements inside the function in order until there are no more statements to execute in the function. In this case, there is only a single statement inside the function, which doubles the value of x and returns the result to where the function was called.\n",
        "\n",
        "You can name a function more or less anything you want (as with variable names, there are a few exceptions, but it’s not worth enumerating them). In this example, we called the function f simply to make the analogy with the mathematical function ```f(x)=2x``` that we defined at the beginning. To be honest, it’s better to give functions descriptive names, just as we’ve advocated doing for variables. So, calling the function something like double would probably have been a better choice.\n",
        "\n"
      ]
    },
    {
      "metadata": {
        "id": "wQGwSK5IO38O",
        "colab_type": "text"
      },
      "cell_type": "markdown",
      "source": [
        "## Functions Can Have More Than One Line\n",
        "The function above, ```f```, had only one statement, which doubled its argument and returned that value. However, in general functions are not limited to a single Python statement, but rather may have as many statements as you choose. For example, we could have written the exact same function from above as follows:\n",
        "\n",
        "```python\n",
        "1 def double(x):\n",
        "2     twoTimesX = 2 * x\n",
        "3     return twoTimesX\n",
        "  \n",
        "4 double(-5)\n",
        " ```\n",
        " \n",
        "Notice that when there is more than one statement in the function they must all be indented to the same position (lines 2 and 3). This is how Python knows which statements are inside the function and which are not. When you call a function (```line 4: double(-5)```), it should be back at the ```def``` level of indentation.\n",
        "\n"
      ]
    },
    {
      "metadata": {
        "id": "vIXdH8_yWFvg",
        "colab_type": "code",
        "colab": {}
      },
      "cell_type": "code",
      "source": [
        "def double(x):\n",
        "   '''Takes a number x as an argument and returns 2∗x.'''\n",
        "   twoTimesX = 2 * x\n",
        "   return twoTimesX\n",
        "  \n",
        "double(-5)\n"
      ],
      "execution_count": 0,
      "outputs": []
    },
    {
      "metadata": {
        "id": "drNbcy2BWMoR",
        "colab_type": "code",
        "colab": {}
      },
      "cell_type": "code",
      "source": [
        "double(57897)"
      ],
      "execution_count": 0,
      "outputs": []
    },
    {
      "metadata": {
        "id": "usdPrw9YUdkM",
        "colab_type": "text"
      },
      "cell_type": "markdown",
      "source": [
        "## Exercise: Write a few functions.\n",
        "\n",
        "Write the functions described in the code cells below. Don't forget to test your function by calling your function.\n",
        "\n",
        "\n"
      ]
    },
    {
      "metadata": {
        "id": "KtOxeT6rok3-",
        "colab_type": "text"
      },
      "cell_type": "markdown",
      "source": [
        "### 1) Define a function called quadruple that takes an argument x and returns a 4 times x.\n",
        "\n",
        "Replace the ... with the correct expression"
      ]
    },
    {
      "metadata": {
        "id": "hGOA9nb6Wkc3",
        "colab_type": "code",
        "colab": {}
      },
      "cell_type": "code",
      "source": [
        "def quadruple(x):\n",
        "  \"\"\"\n",
        "  input: a number or a string\n",
        "  output: 4x\n",
        "  \"\"\"\n",
        "  return ...\n",
        "\n",
        "y = quadruple(-3)\n",
        "print(y)"
      ],
      "execution_count": 0,
      "outputs": []
    },
    {
      "metadata": {
        "id": "tkazq5zLom52",
        "colab_type": "text"
      },
      "cell_type": "markdown",
      "source": [
        "### 2) Define a function called multInverse that takes an argument x and returns the multiplicative inverse (reciprical) of x."
      ]
    },
    {
      "metadata": {
        "id": "Enl-WyzEotSa",
        "colab_type": "code",
        "colab": {}
      },
      "cell_type": "code",
      "source": [
        ""
      ],
      "execution_count": 0,
      "outputs": []
    },
    {
      "metadata": {
        "id": "kpmhep-vot4Y",
        "colab_type": "text"
      },
      "cell_type": "markdown",
      "source": [
        "### 3) Make your own function!"
      ]
    },
    {
      "metadata": {
        "id": "-tmEFajWpAyJ",
        "colab_type": "code",
        "colab": {}
      },
      "cell_type": "code",
      "source": [
        ""
      ],
      "execution_count": 0,
      "outputs": []
    },
    {
      "metadata": {
        "id": "1HrmLUNjpBQQ",
        "colab_type": "text"
      },
      "cell_type": "markdown",
      "source": [
        "###4) Write any questions you have below.\n",
        "\n",
        "Remember you double click on a text cell to edit it."
      ]
    }
  ]
}