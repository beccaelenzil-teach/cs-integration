{
  "nbformat": 4,
  "nbformat_minor": 0,
  "metadata": {
    "colab": {
      "name": "day05-equation-solver.ipynb",
      "version": "0.3.2",
      "provenance": [],
      "collapsed_sections": [],
      "include_colab_link": true
    },
    "kernelspec": {
      "name": "python3",
      "display_name": "Python 3"
    }
  },
  "cells": [
    {
      "cell_type": "markdown",
      "metadata": {
        "id": "view-in-github",
        "colab_type": "text"
      },
      "source": [
        "<a href=\"https://colab.research.google.com/github/bushschool/cs-integration/blob/master/day05_equation_solver.ipynb\" target=\"_parent\"><img src=\"https://colab.research.google.com/assets/colab-badge.svg\" alt=\"Open In Colab\"/></a>"
      ]
    },
    {
      "metadata": {
        "id": "quyLYa6PcCWA",
        "colab_type": "text"
      },
      "cell_type": "markdown",
      "source": [
        "# Day 05 - Equation Solver\n",
        "\n",
        "**Goals:**\n",
        "\n",
        "* Use what we've learned about functions to write a function that solves a single variable equaiton of the form *ax + b = cx + d*\n",
        "\n",
        "* Solve a variety of questions by paper and pencil and using the solver function."
      ]
    },
    {
      "metadata": {
        "id": "Rd1AH9aMcFSB",
        "colab_type": "text"
      },
      "cell_type": "markdown",
      "source": [
        "# Classwork\n",
        "\n",
        "Work through the first couple problems on the [handout from class].(https://docs.google.com/document/d/1oUBjmQOuMVwKAXjgvm6J4_2v46QVzGnokh01FiKrH5U/edit?usp=sharing):\n",
        "\n"
      ]
    },
    {
      "metadata": {
        "id": "fRiqQMxPcIbM",
        "colab_type": "text"
      },
      "cell_type": "markdown",
      "source": [
        "## Equation Solver function\n",
        "\n",
        "* Write a function called **solver(a,b,c,d)** that returns the solution of an equation in the form *ax + b = cx + d*\n",
        "\n",
        "* What are *a, b, c, and d* for Problem 1? Call the functions with the appropriate inputs for Problem 1 to check your solution.\n",
        "\n"
      ]
    },
    {
      "metadata": {
        "id": "IcUsz1xDbpev",
        "colab_type": "code",
        "colab": {}
      },
      "cell_type": "code",
      "source": [
        ""
      ],
      "execution_count": 0,
      "outputs": []
    },
    {
      "metadata": {
        "id": "-xGtuPjicNMc",
        "colab_type": "text"
      },
      "cell_type": "markdown",
      "source": [
        "For problems 3-7:\n",
        "* Rewrite the equations in the form ax + b = cx + d. Record a, b, c, and d\n",
        "* Use your function solver to find the solution.\n",
        "* Finally solve the equation using pencil and paper on the right hand side of the paper below where you’ve recorded a, b, c, and d.\n"
      ]
    },
    {
      "metadata": {
        "id": "FHA5Q5LxcLwc",
        "colab_type": "code",
        "colab": {}
      },
      "cell_type": "code",
      "source": [
        ""
      ],
      "execution_count": 0,
      "outputs": []
    },
    {
      "metadata": {
        "id": "wWkbkP8ocQFU",
        "colab_type": "text"
      },
      "cell_type": "markdown",
      "source": [
        "# HW\n",
        "\n",
        "Complete all the problems from the handout both using (1)  the function **solver** and (2) by pencil and paper."
      ]
    }
  ]
}