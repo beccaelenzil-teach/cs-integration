{
 "cells": [
  {
   "cell_type": "markdown",
   "metadata": {},
   "source": [
    "# Matrices \n",
    "\n",
    "The short tutorial below uses the python programming language and the symbolic library called **sympy** to work with matrices.\n",
    "\n",
    "You can refer to the **sympy** documentation for more information:\n",
    "*http://docs.sympy.org/latest/tutorial/matrices.html*\n",
    "    \n",
    "-------\n",
    "\n",
    "### Read about the  code below and then run it.\n",
    "\n",
    "The first line of code imports all the functions from the library **sympy**\n",
    "```python \n",
    "from sympy import *\n",
    "``` \n",
    "\n",
    "The next line defines a matrix\n",
    "```python\n",
    "A = Matrix([[1,0,1,3],[2,3,4,7],[-1,-3,-3,-4]])\n",
    "```\n",
    "\n",
    "The final line simply displays the matrix stored in A\n",
    "```python\n",
    "A\n",
    "```"
   ]
  },
  {
   "cell_type": "code",
   "execution_count": 7,
   "metadata": {},
   "outputs": [
    {
     "data": {
      "text/plain": [
       "Matrix([\n",
       "[ 1,  0,  1,  3],\n",
       "[ 2,  3,  4,  7],\n",
       "[-1, -3, -3, -4]])"
      ]
     },
     "execution_count": 7,
     "metadata": {},
     "output_type": "execute_result"
    }
   ],
   "source": [
    "from sympy import *\n",
    "\n",
    "A = Matrix([[1,0,1,3],[2,3,4,7],[-1,-3,-3,-4]])\n",
    "A\n"
   ]
  },
  {
   "cell_type": "markdown",
   "metadata": {},
   "source": [
    "Note that each row in the matrix is inside brackets **[ ]** and separated by commas **,**. Also note the outer brackets **[ ]** that encapsulate the matrix. \n",
    "\n",
    "In the code cell below, assign the following matrix to the variable **B** and run the cell.\n",
    "\n",
    "\\begin{bmatrix}\n",
    "    3 & 4 \\\\\n",
    "    5 & 6 \\\\\n",
    "    7 & 8 \\\\\n",
    "    9 & 10\n",
    "\\end{bmatrix}"
   ]
  },
  {
   "cell_type": "code",
   "execution_count": 10,
   "metadata": {},
   "outputs": [
    {
     "data": {
      "text/plain": [
       "Matrix([\n",
       "[3,  4],\n",
       "[5,  6],\n",
       "[7,  8],\n",
       "[9, 10]])"
      ]
     },
     "execution_count": 10,
     "metadata": {},
     "output_type": "execute_result"
    }
   ],
   "source": [
    "from sympy import *\n",
    "\n",
    "B = Matrix([[3,4],[5,6],[7,8],[9,10]])\n",
    "B "
   ]
  },
  {
   "cell_type": "markdown",
   "metadata": {},
   "source": [
    "## Matrix Attributes\n",
    "\n",
    "The matrices that you defined have some built in attributes. One of these attributes is called **shape** and represents the size of the matrix. Run the code below that prints the **shape** attribute of each of the matrices. Note how the print functions works -- It prints **\"a phrase in quotes\"** and a **value** separated by a comma."
   ]
  },
  {
   "cell_type": "code",
   "execution_count": 17,
   "metadata": {},
   "outputs": [
    {
     "name": "stdout",
     "output_type": "stream",
     "text": [
      "Size of A: (3, 4)\n",
      "Size of B: (4, 2)\n"
     ]
    }
   ],
   "source": [
    "print(\"Size of A:\",A.shape)\n",
    "print(\"Size of B:\",B.shape)"
   ]
  },
  {
   "cell_type": "markdown",
   "metadata": {},
   "source": [
    "## Matrix Multiplication\n",
    "\n",
    "Now that you have defined to matrices, you can multiply these matrices. Run the code below to see matrix multiplication."
   ]
  },
  {
   "cell_type": "code",
   "execution_count": 19,
   "metadata": {},
   "outputs": [
    {
     "data": {
      "text/plain": [
       "Matrix([\n",
       "[ 37,  42],\n",
       "[112, 128],\n",
       "[-75, -86]])"
      ]
     },
     "execution_count": 19,
     "metadata": {},
     "output_type": "execute_result"
    }
   ],
   "source": [
    "C = A*B\n",
    "C"
   ]
  },
  {
   "cell_type": "markdown",
   "metadata": {},
   "source": [
    "## Row Reduction\n",
    "\n",
    "The library **sympy** has a built in row reduction function. \n",
    "\n",
    "\n",
    "The code below performs row reduction for the system of equations (POD 5.6, problem 3):\n",
    "\n",
    "\n",
    "\\begin{cases} \n",
    "8x + 12y = 40 \\\\ \n",
    "6x + 20y = 52\n",
    "\\end{cases}\n",
    "\n",
    "\n",
    "\n",
    "\n",
    "Run the code, and then perform row reduction on a system of equations your choosing from POD 5.6. Uncomment the second two lines of code by removing the **#** signs. Assign the coefficient matrix to matrix **E**."
   ]
  },
  {
   "cell_type": "code",
   "execution_count": 24,
   "metadata": {},
   "outputs": [
    {
     "data": {
      "text/plain": [
       "(Matrix([\n",
       " [1, 0, 2],\n",
       " [0, 1, 2]]), (0, 1))"
      ]
     },
     "execution_count": 24,
     "metadata": {},
     "output_type": "execute_result"
    }
   ],
   "source": [
    "D = Matrix([[8, 12, 40], [6,20,52]])\n",
    "D.rref()\n",
    "\n",
    "#E = Matrix()\n",
    "#E.rref()"
   ]
  },
  {
   "cell_type": "code",
   "execution_count": null,
   "metadata": {
    "collapsed": true
   },
   "outputs": [],
   "source": []
  }
 ],
 "metadata": {
  "kernelspec": {
   "display_name": "Python 3",
   "language": "python",
   "name": "python3"
  },
  "language_info": {
   "codemirror_mode": {
    "name": "ipython",
    "version": 3
   },
   "file_extension": ".py",
   "mimetype": "text/x-python",
   "name": "python",
   "nbconvert_exporter": "python",
   "pygments_lexer": "ipython3",
   "version": "3.6.4"
  }
 },
 "nbformat": 4,
 "nbformat_minor": 2
}
