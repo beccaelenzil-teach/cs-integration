{
  "nbformat": 4,
  "nbformat_minor": 0,
  "metadata": {
    "colab": {
      "name": "day01-expressions.ipynb",
      "version": "0.3.2",
      "provenance": [],
      "private_outputs": true,
      "collapsed_sections": [],
      "toc_visible": true,
      "include_colab_link": true
    },
    "kernelspec": {
      "display_name": "Python 3",
      "language": "python",
      "name": "python3"
    }
  },
  "cells": [
    {
      "cell_type": "markdown",
      "metadata": {
        "id": "view-in-github",
        "colab_type": "text"
      },
      "source": [
        "[View in Colaboratory](https://colab.research.google.com/github/bushschool/cs-integration/blob/master/day01_expressions.ipynb)"
      ]
    },
    {
      "metadata": {
        "id": "85bPX-F7yMiu",
        "colab_type": "text"
      },
      "cell_type": "markdown",
      "source": [
        "# Activity - Four Fours\n",
        "\n",
        "To get started, we'll program a numeric puzzle. This activity's challenge is to create each numeric value from 0 to 9 using only four fours. By working through this problem, you will get practice with the Jupyter interface, Python's print function, and general python syntax.\n",
        "\n",
        "This cell is a *text cell.* You can double click a text cell to edit it's content. Double click the cell below to complete the statement.\n",
        "\n",
        "\n",
        "\n",
        "\n",
        "\n"
      ]
    },
    {
      "metadata": {
        "id": "ChusXMg_XP3P",
        "colab_type": "text"
      },
      "cell_type": "markdown",
      "source": [
        "*I expect the output of the code shown below will be \n",
        "**[FILL IN THE BLANK]** *\n",
        "\n",
        "```python\n",
        "# assign a value to the variable zero\n",
        "zero = 4+4-4-4\n",
        "\n",
        "# print this value along with the text \"Zero is\"\n",
        "print(\"Zero is\", zero)\n",
        "```\n",
        "\n",
        "Now run the code cell by pressing the play button in the [   ]."
      ]
    },
    {
      "metadata": {
        "id": "y4W_CfIJXkBq",
        "colab_type": "code",
        "colab": {}
      },
      "cell_type": "code",
      "source": [
        "# assign a value to the variable zero\n",
        "zero = 4+4-4-4\n",
        "\n",
        "# print this value along with the text \"Zero is\"\n",
        "print(\"Zero is\", zero)"
      ],
      "execution_count": 0,
      "outputs": []
    },
    {
      "metadata": {
        "id": "5K5LPvNJYA2W",
        "colab_type": "text"
      },
      "cell_type": "markdown",
      "source": [
        "*Was your prediction correct? What questions do you have about how the code works?*\n",
        "_____________\n",
        "\n",
        "\n",
        "Now you will add more lines to your code to complete the challenge for 9 more digits. The first few lines have been started for you in the code cell below.\n",
        "\n",
        "\n",
        "Notice that there is a *#* in front of lines 6,7,9, and 10. This is called a *comment*. These lines will not execute until you remove the *#*.\n",
        "\n",
        "You can use the operations:\n",
        "\n",
        "      +, -, *, /, (), and ** (power) (i.e. 4**(4/4) = 4)\n",
        "        \n",
        "        \n",
        "You can also use factorial and square root by calling the math library. We will learn more about this later. For now, you just need to know\n",
        "\n",
        "      math.sqrt(4) = 2\n",
        "      math.factorial(4) = 4*3*2*1 = 24\n",
        "      \n",
        "You may find the four fours game addicting—or frustrating—or both. Hint: We found the power operator really helpful.\n",
        "\n",
        "Have fun!"
      ]
    },
    {
      "metadata": {
        "id": "efrc4pF6YVCY",
        "colab_type": "code",
        "colab": {}
      },
      "cell_type": "code",
      "source": [
        "import math\n",
        "\n",
        "zero = (4+4-4-4)\n",
        "print(\"Zero is\", zero)\n",
        "\n",
        "one = 4/4-4+4\n",
        "print(\"One is\", one)\n",
        "\n",
        "two = 4/4+4/4\n",
        "print(\"Two is\", two)\n",
        "\n",
        "three = (4*4-4)/4\n",
        "print(\"Three is\", three)\n"
      ],
      "execution_count": 0,
      "outputs": []
    },
    {
      "metadata": {
        "id": "-jz2IzhcBm8x",
        "colab_type": "text"
      },
      "cell_type": "markdown",
      "source": [
        "# Day 1: Expressions\n",
        "\n",
        "In this interactive reading, you'll learn how to\n",
        "\n",
        "1. navigate Jupyter notebooks (like this one);\n",
        "2. write and evaluate some basic *expressions* in Python, the computer language of the course;\n",
        "3. call *functions* to use code other people have written; and\n",
        "4. break down Python code into smaller parts to understand it."
      ]
    },
    {
      "metadata": {
        "id": "dqJTHig2Bm8z",
        "colab_type": "text"
      },
      "cell_type": "markdown",
      "source": [
        "# 1. Jupyter notebooks\n",
        "This webpage is called a Jupyter notebook. A notebook is a place to write programs and view their results."
      ]
    },
    {
      "metadata": {
        "id": "9XkjzRNqxKip",
        "colab_type": "text"
      },
      "cell_type": "markdown",
      "source": [
        "## 1.1. Text cells\n",
        "In a notebook, each rectangle containing text or code is called a cell.\n",
        "\n",
        "Text cells (like this one) can be edited by double-clicking on them. They're written in a simple format called Markdown to add formatting and section headings. You don't need to learn Markdown, but you might want to.\n",
        "\n",
        "After you edit a text cell, click the \"run cell\" button at the top that looks like ▶| to confirm any changes. (Try not to delete the instructions of the lab.)"
      ]
    },
    {
      "metadata": {
        "id": "7cCUTV1qBm80",
        "colab_type": "text"
      },
      "cell_type": "markdown",
      "source": [
        "**Question 1.1.1.** This paragraph is in its own text cell.  Try editing it so that this sentence is the last sentence in the paragraph, and then click the \"run cell\" ▶| button .  This sentence, for example, should be deleted.  So should this one."
      ]
    },
    {
      "metadata": {
        "id": "ZOw55EihBm81",
        "colab_type": "text"
      },
      "cell_type": "markdown",
      "source": [
        "## 1.2. Code cells\n",
        "Other cells contain code in the Python 3 language. Running a code cell will execute all of the code it contains.\n",
        "\n",
        "To run the code in a code cell, first click on that cell to activate it.  It'll be highlighted with a little green or blue rectangle.  Next, either press ▶| or hold down the `shift` key and press `return` or `enter`.\n",
        "\n",
        "Try running this cell:"
      ]
    },
    {
      "metadata": {
        "id": "9jos-aO8Bm83",
        "colab_type": "code",
        "colab": {}
      },
      "cell_type": "code",
      "source": [
        "print(\"Hello, World!\")"
      ],
      "execution_count": 0,
      "outputs": []
    },
    {
      "metadata": {
        "id": "W_WqFnVcBm87",
        "colab_type": "text"
      },
      "cell_type": "markdown",
      "source": [
        "And this one:"
      ]
    },
    {
      "metadata": {
        "id": "_RwAtw6rBm9U",
        "colab_type": "code",
        "colab": {}
      },
      "cell_type": "code",
      "source": [
        "print(\"\\N{WAVING HAND SIGN}, \\N{EARTH GLOBE ASIA-AUSTRALIA}!\")"
      ],
      "execution_count": 0,
      "outputs": []
    },
    {
      "metadata": {
        "id": "JvgPPH1yBm9Z",
        "colab_type": "text"
      },
      "cell_type": "markdown",
      "source": [
        "The fundamental building block of Python code is an expression. Cells can contain multiple lines with multiple expressions. When you run a cell, the lines of code are executed in the order in which they appear. Every `print` expression prints a line. Run the next cell and notice the order of the output."
      ]
    },
    {
      "metadata": {
        "id": "Wxa2DnVCBm9a",
        "colab_type": "code",
        "colab": {}
      },
      "cell_type": "code",
      "source": [
        "print(\"First this line is printed,\")\n",
        "print(\"and then this one.\")"
      ],
      "execution_count": 0,
      "outputs": []
    },
    {
      "metadata": {
        "id": "60BBvfn_Bm9f",
        "colab_type": "text"
      },
      "cell_type": "markdown",
      "source": [
        "**Question 1.2.1.** Change the cell above so that it prints out:\n",
        "\n",
        "    First this line,\n",
        "    then the whole 🌏,\n",
        "    and then this one.\n",
        "\n",
        "*Hint:* If you're stuck on the Earth symbol for more than a few minutes, try talking to a neighbor or a teacher.  That's a good idea for any lab problem.\n"
      ]
    },
    {
      "metadata": {
        "id": "G18G31bIBm9h",
        "colab_type": "text"
      },
      "cell_type": "markdown",
      "source": [
        "## 1.3. Writing Jupyter notebooks\n",
        "You can use Jupyter notebooks for your own projects or documents.  When you make your own notebook, you'll need to create your own cells for text and code.\n",
        "\n",
        "To add a cell, click the + button in the menu bar.  It'll start out as a text cell.  You can change it to a code cell by clicking inside it so it's highlighted, clicking the drop-down box next to the restart (⟳) button in the menu bar, and choosing \"Code\".\n",
        "\n",
        "**Question 1.3.1.** Add a code cell below this one.  Write code in it that prints out:\n",
        "   \n",
        "    A whole new cell! ♪🌏♪\n",
        "\n",
        "(That musical note symbol is like the Earth symbol.  Its long-form name is `\\N{EIGHTH NOTE}`.)\n",
        "\n",
        "Run your cell to verify that it works."
      ]
    },
    {
      "metadata": {
        "id": "R1rE9yTgBm9i",
        "colab_type": "text"
      },
      "cell_type": "markdown",
      "source": [
        "## 1.4. Errors\n",
        "Python is a language, and like natural human languages, it has rules.  It differs from natural language in two important ways:\n",
        "1. The rules are *simple*.  You can learn most of them in a few weeks and gain reasonable proficiency with the language in a semester.\n",
        "2. The rules are *rigid*.  If you're proficient in a natural language, you can understand a non-proficient speaker, glossing over small mistakes.  A computer running Python code is not smart enough to do that.\n",
        "\n",
        "Whenever you write code, you'll make mistakes.  When you run a code cell that has errors, Python will sometimes produce error messages to tell you what you did wrong.\n",
        "\n",
        "Errors are okay; even experienced programmers make many errors.  When you make an error, you just have to find the source of the problem, fix it, and move on.\n",
        "\n",
        "We have made an error in the next cell.  Run it and see what happens."
      ]
    },
    {
      "metadata": {
        "id": "COKYjMWkBm9j",
        "colab_type": "code",
        "colab": {}
      },
      "cell_type": "code",
      "source": [
        "print(\"This line is missing something.\""
      ],
      "execution_count": 0,
      "outputs": []
    },
    {
      "metadata": {
        "id": "v9d7UlRYBm9o",
        "colab_type": "text"
      },
      "cell_type": "markdown",
      "source": [
        "You should see something like this (minus our annotations):\n",
        "\n",
        "<img src=\"https://raw.githubusercontent.com/beccaelenzil-teach/materials-su18/master/materials/su18/lab/lab01/error.jpg\"/>\n",
        "\n",
        "The last line of the error output attempts to tell you what went wrong.  The *syntax* of a language is its structure, and this `SyntaxError` tells you that you have created an illegal structure.  \"`EOF`\" means \"end of file,\" so the message is saying Python expected you to write something more (in this case, a right parenthesis) before finishing the cell.\n",
        "\n",
        "There's a lot of terminology in programming languages, but you don't need to know it all in order to program effectively. If you see a cryptic message like this, you can often get by without deciphering it.  (Of course, if you're frustrated, ask a neighbor or a TA for help.)\n",
        "\n",
        "Try to fix the code above so that you can run the cell and see the intended message instead of an error."
      ]
    },
    {
      "metadata": {
        "id": "zw88Xi8iBm95",
        "colab_type": "text"
      },
      "cell_type": "markdown",
      "source": [
        "# 2. Numbers\n",
        "\n",
        "Quantitative information arises everywhere in data science. In addition to representing commands to print out lines, expressions can represent numbers and methods of combining numbers. The expression `3.2500` evaluates to the number 3.25. (Run the cell and see.)"
      ]
    },
    {
      "metadata": {
        "id": "XC6BmvSrBm96",
        "colab_type": "code",
        "colab": {}
      },
      "cell_type": "code",
      "source": [
        "3.2500"
      ],
      "execution_count": 0,
      "outputs": []
    },
    {
      "metadata": {
        "id": "o7q_toVaBm9_",
        "colab_type": "text"
      },
      "cell_type": "markdown",
      "source": [
        "Notice that we didn't have to `print`. When you run a notebook cell, if the last line has a value, then Jupyter helpfully prints out that value for you. However, it won't print out prior lines automatically."
      ]
    },
    {
      "metadata": {
        "id": "Jh24VmjuBm-A",
        "colab_type": "code",
        "colab": {}
      },
      "cell_type": "code",
      "source": [
        "print(2)\n",
        "3\n",
        "4"
      ],
      "execution_count": 0,
      "outputs": []
    },
    {
      "metadata": {
        "id": "paqPRQ4IBm-G",
        "colab_type": "text"
      },
      "cell_type": "markdown",
      "source": [
        "Above, you should see that 4 is the value of the last expression, 2 is printed, but 3 is lost forever because it was neither printed nor last.\n",
        "\n",
        "You don't want to print everything all the time anyway.  But if you feel sorry for 3, change the cell above to print it."
      ]
    },
    {
      "metadata": {
        "id": "ph76CgWpBm-H",
        "colab_type": "text"
      },
      "cell_type": "markdown",
      "source": [
        "## 2.1. Arithmetic\n",
        "The line in the next cell subtracts.  Its value is what you'd expect.  Run it."
      ]
    },
    {
      "metadata": {
        "id": "wLTnKcbXBm-K",
        "colab_type": "code",
        "colab": {}
      },
      "cell_type": "code",
      "source": [
        "3.25 - 1.5"
      ],
      "execution_count": 0,
      "outputs": []
    },
    {
      "metadata": {
        "id": "su_lWtQuBm-M",
        "colab_type": "text"
      },
      "cell_type": "markdown",
      "source": [
        "Many basic arithmetic operations are built in to Python.  The textbook section on [Expressions](http://www.inferentialthinking.com/chapters/03/1/expressions.html) describes all the arithmetic operators used in the course.  The common operator that differs from typical math notation is `**`, which raises one number to the power of the other. So, `2**3` stands for $2^3$ and evaluates to 8. \n",
        "\n",
        "The order of operations is what you learned in elementary school, and Python also has parentheses.  For example, compare the outputs of the cells below. Use parentheses for a happy new year!"
      ]
    },
    {
      "metadata": {
        "id": "XmxOMk8tBm-Q",
        "colab_type": "code",
        "colab": {}
      },
      "cell_type": "code",
      "source": [
        "1+6*5-6*3**2*2**3/4*7"
      ],
      "execution_count": 0,
      "outputs": []
    },
    {
      "metadata": {
        "id": "kc1AdNZhBm-Y",
        "colab_type": "code",
        "colab": {}
      },
      "cell_type": "code",
      "source": [
        "2+(6*5-(6*3))**2*((2**3)/4*7)"
      ],
      "execution_count": 0,
      "outputs": []
    },
    {
      "metadata": {
        "id": "tqN9eY5pBm-c",
        "colab_type": "text"
      },
      "cell_type": "markdown",
      "source": [
        "In standard math notation, the first expression is\n",
        "\n",
        "$$1 + 6 \\times 5 - 6 \\times 3^2 \\times \\frac{2^3}{4} \\times 7,$$\n",
        "\n",
        "while the second expression is\n",
        "\n",
        "$$1 + (6 \\times 5 - (6 \\times 3))^2 \\times (\\frac{(2^3)}{4} \\times 7).$$\n",
        "\n",
        "**Question 2.1.1.** Write a Python expression in this next cell that's equal to $5 \\times (3 \\frac{10}{11}) - 50 \\frac{1}{3} + 2^{.5 \\times 22} - \\frac{7}{33} + 1$.  That's five times three and ten elevenths, minus fifty and a third, plus two to the power of half 22, minus 7 33rds plus 1.  By \"$3 \\frac{10}{11}$\" we mean $3+\\frac{10}{11}$, not $3 \\times \\frac{10}{11}$.\n",
        "\n",
        "Replace the ellipses (`...`) with your expression.  Try to use parentheses only when necessary.\n",
        "\n",
        "*Hint:* The correct output should start with a familiar number.\n",
        "\n",
        "**Compare your answer with a neighbor** Did you get the same number? Try to settle on the correct solution."
      ]
    },
    {
      "metadata": {
        "id": "7xNja0w3o-S5",
        "colab_type": "code",
        "colab": {}
      },
      "cell_type": "code",
      "source": [
        ""
      ],
      "execution_count": 0,
      "outputs": []
    },
    {
      "metadata": {
        "id": "EIk12-8DBm-m",
        "colab_type": "text"
      },
      "cell_type": "markdown",
      "source": [
        "# 3. Names\n",
        "In natural language, we have terminology that lets us quickly reference very complicated concepts.  We don't say, \"That's a large mammal with brown fur and sharp teeth!\"  Instead, we just say, \"Bear!\"\n",
        "\n",
        "Similarly, an effective strategy for writing code is to define names for data as we compute it, like a lawyer would define terms for complex ideas at the start of a legal document to simplify the rest of the writing.\n",
        "\n",
        "In Python, we do this with *assignment statements*. An assignment statement has a name on the left side of an `=` sign and an expression to be evaluated on the right."
      ]
    },
    {
      "metadata": {
        "id": "pIuGKc4JBm-n",
        "colab_type": "code",
        "colab": {}
      },
      "cell_type": "code",
      "source": [
        "ten = 3 * 2 + 4"
      ],
      "execution_count": 0,
      "outputs": []
    },
    {
      "metadata": {
        "id": "ydfiO8O3Bm-r",
        "colab_type": "text"
      },
      "cell_type": "markdown",
      "source": [
        "When you run that cell, Python first evaluates the first line.  It computes the value of the expression `3 * 2 + 4`, which is the number 10.  Then it gives that value the name `ten`.  At that point, the code in the cell is done running.\n",
        "\n",
        "After you run that cell, the value 10 is bound to the name `ten`:"
      ]
    },
    {
      "metadata": {
        "id": "HX5SAsuIBm-s",
        "colab_type": "code",
        "colab": {}
      },
      "cell_type": "code",
      "source": [
        "ten"
      ],
      "execution_count": 0,
      "outputs": []
    },
    {
      "metadata": {
        "id": "QxtDP3ErBm-u",
        "colab_type": "text"
      },
      "cell_type": "markdown",
      "source": [
        "The statement `ten = 3 * 2 + 4` is not asserting that `ten` is already equal to `3 * 2 + 4`, as we might expect by analogy with math notation.  Rather, that line of code changes what `ten` means; it now refers to the value 10, whereas before it meant nothing at all.\n",
        "\n",
        "If the designers of Python had been ruthlessly pedantic, they might have made us write\n",
        "\n",
        "    define the name ten to hereafter have the value of 3 * 2 + 4 \n",
        "\n",
        "instead.  You will probably appreciate the brevity of \"`=`\"!  But keep in mind that this is the real meaning.\n",
        "\n",
        "**Question 3.1.** Try writing code that uses a name (like `eleven`) that hasn't been assigned to anything.  You'll see an error!"
      ]
    },
    {
      "metadata": {
        "id": "RLzpA97tBm-v",
        "colab_type": "code",
        "colab": {}
      },
      "cell_type": "code",
      "source": [
        ""
      ],
      "execution_count": 0,
      "outputs": []
    },
    {
      "metadata": {
        "id": "IQqYJ6rWBm-y",
        "colab_type": "text"
      },
      "cell_type": "markdown",
      "source": [
        "A common pattern in Jupyter notebooks is to assign a value to a name and then immediately evaluate the name in the last line in the cell so that the value is displayed as output. "
      ]
    },
    {
      "metadata": {
        "id": "2Kjb7_SbBm-z",
        "colab_type": "code",
        "colab": {}
      },
      "cell_type": "code",
      "source": [
        "close_to_pi = 355/113\n",
        "close_to_pi"
      ],
      "execution_count": 0,
      "outputs": []
    },
    {
      "metadata": {
        "id": "oZfKOkQiBm-4",
        "colab_type": "text"
      },
      "cell_type": "markdown",
      "source": [
        "Another common pattern is that a series of lines in a single cell will build up a complex computation in stages, naming the intermediate results."
      ]
    },
    {
      "metadata": {
        "id": "J51fBdhdBm-5",
        "colab_type": "code",
        "colab": {}
      },
      "cell_type": "code",
      "source": [
        "bimonthly_salary = 840\n",
        "monthly_salary = 2 * bimonthly_salary\n",
        "number_of_months_in_a_year = 12\n",
        "yearly_salary = number_of_months_in_a_year * monthly_salary\n",
        "yearly_salary"
      ],
      "execution_count": 0,
      "outputs": []
    },
    {
      "metadata": {
        "id": "VJ-g4n8FBm-8",
        "colab_type": "text"
      },
      "cell_type": "markdown",
      "source": [
        "Names in Python can have letters (upper- and lower-case letters are both okay and count as different letters), underscores, and numbers.  The first character can't be a number (otherwise a name might look like a number).  And names can't contain spaces, since spaces are used to separate pieces of code from each other.\n",
        "\n",
        "Other than those rules, what you name something doesn't matter *to Python*.  For example, this cell does the same thing as the above cell, except everything has a different name:"
      ]
    },
    {
      "metadata": {
        "id": "NT0Y9zPYBm-8",
        "colab_type": "code",
        "colab": {}
      },
      "cell_type": "code",
      "source": [
        "a = 840\n",
        "b = 2 * a\n",
        "c = 12\n",
        "d = c * b\n",
        "d"
      ],
      "execution_count": 0,
      "outputs": []
    },
    {
      "metadata": {
        "id": "TNRZKdv9Bm-_",
        "colab_type": "text"
      },
      "cell_type": "markdown",
      "source": [
        "**However**, names are very important for making your code *readable* to yourself and others.  The cell above is shorter, but it's totally useless without an explanation of what it does.\n",
        "\n",
        "According to a famous joke among computer scientists, naming things is one of the three hardest problems in computer science.  (The other two are cache invalidation and \"off-by-one\" errors.  And people say computer scientists have an odd sense of humor...)"
      ]
    },
    {
      "metadata": {
        "id": "hC8_si0rBm_I",
        "colab_type": "text"
      },
      "cell_type": "markdown",
      "source": [
        "## 3.1. Comments\n",
        "You may have noticed this line in the cell above:\n",
        "\n",
        "    # Test cell; please do not change!\n",
        "\n",
        "That is called a *comment*.  It doesn't make anything happen in Python; Python ignores anything on a line after a #.  Instead, it's there to communicate something about the code to you, the human reader.  Comments are extremely useful.\n",
        "\n",
        "<img src=\"http://imgs.xkcd.com/comics/future_self.png\">"
      ]
    },
    {
      "metadata": {
        "id": "cGAtcsvRx7Ig",
        "colab_type": "text"
      },
      "cell_type": "markdown",
      "source": [
        "# 4. Calling Functions\n",
        "\n",
        "The most common way to combine or manipulate values in Python is by calling functions. Python comes with many built-in functions that perform common operations.\n",
        "\n",
        "For example, the `abs` function takes a single number as its argument and returns the absolute value of that number.  The absolute value of a number is its distance from 0 on the number line, so `abs(5)` is 5 and `abs(-5)` is also 5.\n",
        "\n",
        "Test out the two code blocks below."
      ]
    },
    {
      "metadata": {
        "id": "RVoJ4laGyIqK",
        "colab_type": "code",
        "colab": {}
      },
      "cell_type": "code",
      "source": [
        "abs(5)"
      ],
      "execution_count": 0,
      "outputs": []
    },
    {
      "metadata": {
        "id": "q-aoh3ZIyKgk",
        "colab_type": "code",
        "colab": {}
      },
      "cell_type": "code",
      "source": [
        "abs(-5)"
      ],
      "execution_count": 0,
      "outputs": []
    },
    {
      "metadata": {
        "id": "c9KaihHGnctS",
        "colab_type": "text"
      },
      "cell_type": "markdown",
      "source": [
        "There are also some functions that are part of packages. For instance, there is a **math** package that has it's own absolute value function. You may have used this for the Four Fours activity. To access this function, you need to import that math package. Run the code below to see how to run a function from a package/library. The math library has lots of other useful functions you can read about [here](https://docs.python.org/3/library/math.html)."
      ]
    },
    {
      "metadata": {
        "id": "i72Eh3-lnqKM",
        "colab_type": "code",
        "colab": {}
      },
      "cell_type": "code",
      "source": [
        "import math\n",
        "\n",
        "math.fabs(-5)"
      ],
      "execution_count": 0,
      "outputs": []
    },
    {
      "metadata": {
        "id": "hiBU4-8Zy4fy",
        "colab_type": "text"
      },
      "cell_type": "markdown",
      "source": [
        "**That's it! Next week we'll learn how to write our own functions.**"
      ]
    }
  ]
}